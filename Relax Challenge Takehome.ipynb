{
 "cells": [
  {
   "cell_type": "markdown",
   "id": "3c7c0b1e",
   "metadata": {},
   "source": [
    "# Setup"
   ]
  },
  {
   "cell_type": "code",
   "execution_count": 1,
   "id": "e7e96e75",
   "metadata": {},
   "outputs": [],
   "source": [
    "import numpy as np\n",
    "import pandas as pd\n",
    "import seaborn as sns\n",
    "import matplotlib.pyplot as plt\n",
    "from sklearn.model_selection import train_test_split\n",
    "from sklearn import metrics\n",
    "from sklearn.dummy import DummyClassifier\n",
    "from sklearn.linear_model import LogisticRegression, RidgeClassifier\n",
    "from sklearn.decomposition import PCA\n",
    "from sklearn.ensemble import RandomForestClassifier\n",
    "from sklearn.svm import LinearSVC\n",
    "from sklearn.experimental import enable_hist_gradient_boosting\n",
    "from sklearn.ensemble import HistGradientBoostingClassifier\n",
    "from sklearn.naive_bayes import BernoulliNB\n",
    "from sklearn.neighbors import KNeighborsClassifier"
   ]
  },
  {
   "cell_type": "markdown",
   "id": "da69028a",
   "metadata": {},
   "source": [
    "We initially read the user table. Two fields (`creation_time` and `last_session_creation_time`) should be times, but `last_session_creation_time` is given as a Unix epoch timestamp. This won't be read as a date time using the `parse_dates` parameter, but can be converted later."
   ]
  },
  {
   "cell_type": "markdown",
   "id": "a68922f4",
   "metadata": {},
   "source": [
    "Since `opted_in_to_mailing_list` and `enabled_for_marketing_drip` are boolean, we explicitly convert them. Additionally, `invited_by_user_id` should be integer-typed, but the usual int type isn't nullable. We use Pandas Int64 type which is nullable."
   ]
  },
  {
   "cell_type": "code",
   "execution_count": 5,
   "id": "7f58e386",
   "metadata": {},
   "outputs": [],
   "source": [
    "users_df = pd.read_csv('./takehome_users.csv', \n",
    "                       parse_dates=['creation_time'], \n",
    "                       dtype= {'invited_by_user_id': 'Int64'})"
   ]
  },
  {
   "cell_type": "code",
   "execution_count": null,
   "id": "35448de9",
   "metadata": {},
   "outputs": [],
   "source": [
    "users_df.head()"
   ]
  },
  {
   "cell_type": "code",
   "execution_count": null,
   "id": "d9e49576",
   "metadata": {},
   "outputs": [],
   "source": [
    "users_df.info()"
   ]
  },
  {
   "cell_type": "code",
   "execution_count": null,
   "id": "110eb5b8",
   "metadata": {},
   "outputs": [],
   "source": [
    "users_df['last_session_creation_time'] = pd.to_datetime(users_df['last_session_creation_time'],unit='s')"
   ]
  },
  {
   "cell_type": "code",
   "execution_count": null,
   "id": "53af79db",
   "metadata": {},
   "outputs": [],
   "source": [
    "users_df.head()"
   ]
  },
  {
   "cell_type": "code",
   "execution_count": null,
   "id": "642f80d7",
   "metadata": {},
   "outputs": [],
   "source": [
    "users_df.info()"
   ]
  },
  {
   "cell_type": "markdown",
   "id": "80b80967",
   "metadata": {},
   "source": [
    "Now, read the engagement table. Here, the only optional argument is to read the `time_stamp` column as a datetime."
   ]
  },
  {
   "cell_type": "code",
   "execution_count": 6,
   "id": "6d326ca0",
   "metadata": {},
   "outputs": [],
   "source": [
    "engage_df = pd.read_csv('./takehome_user_engagement.csv', parse_dates=['time_stamp'])"
   ]
  },
  {
   "cell_type": "code",
   "execution_count": null,
   "id": "55a0a80c",
   "metadata": {},
   "outputs": [],
   "source": [
    "engage_df.head()"
   ]
  },
  {
   "cell_type": "code",
   "execution_count": null,
   "id": "aef8cd5f",
   "metadata": {},
   "outputs": [],
   "source": [
    "engage_df.info()"
   ]
  },
  {
   "cell_type": "code",
   "execution_count": null,
   "id": "562d8adb",
   "metadata": {},
   "outputs": [],
   "source": [
    "engage_df.visited.unique()"
   ]
  },
  {
   "cell_type": "code",
   "execution_count": null,
   "id": "7b5b9a9e",
   "metadata": {},
   "outputs": [],
   "source": [
    "engage_df.visited.value_counts()"
   ]
  },
  {
   "cell_type": "markdown",
   "id": "25ca4464",
   "metadata": {},
   "source": [
    "There is no reason to continue carrying `visited` as a field as it adds nothing of value."
   ]
  },
  {
   "cell_type": "code",
   "execution_count": null,
   "id": "2bc198c5",
   "metadata": {},
   "outputs": [],
   "source": [
    "engage_df.drop('visited', axis=1, inplace=True)"
   ]
  },
  {
   "cell_type": "markdown",
   "id": "07a4159d",
   "metadata": {},
   "source": [
    "# Feature Engineering"
   ]
  },
  {
   "cell_type": "markdown",
   "id": "655c92cc",
   "metadata": {},
   "source": [
    "Most user data is present. There are two fields with null values - `last_session_creation_time` and `invited_by_user_id`. The latter is not surprising as we would not expect all users to join via invite. However, we might expect all users to have a `last_session_creation_time`. We can count the number of sessions per user."
   ]
  },
  {
   "cell_type": "code",
   "execution_count": null,
   "id": "214765f2",
   "metadata": {},
   "outputs": [],
   "source": [
    "session_count_df = engage_df.groupby('user_id').count()"
   ]
  },
  {
   "cell_type": "markdown",
   "id": "8b8e5d94",
   "metadata": {},
   "source": [
    "It seems to be notable that there are 8823 rows in the grouped session data, the same as in the user data."
   ]
  },
  {
   "cell_type": "code",
   "execution_count": null,
   "id": "2c88c764",
   "metadata": {},
   "outputs": [],
   "source": [
    "session_count_df.info()"
   ]
  },
  {
   "cell_type": "markdown",
   "id": "b5c89d56",
   "metadata": {},
   "source": [
    "Change the field name to something more descriptive."
   ]
  },
  {
   "cell_type": "code",
   "execution_count": null,
   "id": "ad414930",
   "metadata": {},
   "outputs": [],
   "source": [
    "session_count_df.rename({'time_stamp': 'session_count'}, axis=1, inplace=True)"
   ]
  },
  {
   "cell_type": "code",
   "execution_count": null,
   "id": "c7671b85",
   "metadata": {},
   "outputs": [],
   "source": [
    "session_count_df.info()"
   ]
  },
  {
   "cell_type": "code",
   "execution_count": null,
   "id": "508a78cc",
   "metadata": {},
   "outputs": [],
   "source": [
    "users_df = users_df.merge(session_count_df, how='left', left_on='object_id', right_index=True)"
   ]
  },
  {
   "cell_type": "code",
   "execution_count": null,
   "id": "c87c9c8b",
   "metadata": {},
   "outputs": [],
   "source": [
    "users_df.info()"
   ]
  },
  {
   "cell_type": "markdown",
   "id": "36dc6d6c",
   "metadata": {},
   "source": [
    "Unsurprisingly, session counts are zero for users with null `last_session_creation_time`."
   ]
  },
  {
   "cell_type": "code",
   "execution_count": null,
   "id": "9e8bbe74",
   "metadata": {},
   "outputs": [],
   "source": [
    "users_df[users_df.last_session_creation_time.isna()].info()"
   ]
  },
  {
   "cell_type": "markdown",
   "id": "835d6a65",
   "metadata": {},
   "source": [
    "In the `session_count` field, null values have a natural interpretation as a zero count."
   ]
  },
  {
   "cell_type": "code",
   "execution_count": null,
   "id": "44a7e307",
   "metadata": {},
   "outputs": [],
   "source": [
    "users_df.fillna(value={'session_count': 0}, inplace=True)"
   ]
  },
  {
   "cell_type": "code",
   "execution_count": null,
   "id": "54b39418",
   "metadata": {},
   "outputs": [],
   "source": [
    "users_df.info()"
   ]
  },
  {
   "cell_type": "markdown",
   "id": "b002e8ff",
   "metadata": {},
   "source": [
    "The `session_count` column can be cast to integer now since it no longer has null values."
   ]
  },
  {
   "cell_type": "code",
   "execution_count": null,
   "id": "994622b8",
   "metadata": {},
   "outputs": [],
   "source": [
    "users_df['session_count'] = users_df['session_count'].astype(int)"
   ]
  },
  {
   "cell_type": "code",
   "execution_count": null,
   "id": "caf7a293",
   "metadata": {},
   "outputs": [],
   "source": [
    "users_df.info()"
   ]
  },
  {
   "cell_type": "markdown",
   "id": "eb5a651f",
   "metadata": {},
   "source": [
    "We'll add the number of invites from an individual user as well."
   ]
  },
  {
   "cell_type": "code",
   "execution_count": null,
   "id": "f06d28f3",
   "metadata": {},
   "outputs": [],
   "source": [
    "invites_df = users_df.groupby('invited_by_user_id')['object_id'].count()"
   ]
  },
  {
   "cell_type": "code",
   "execution_count": null,
   "id": "beec225d",
   "metadata": {},
   "outputs": [],
   "source": [
    "invites_df.head()"
   ]
  },
  {
   "cell_type": "code",
   "execution_count": null,
   "id": "aadec4cd",
   "metadata": {},
   "outputs": [],
   "source": [
    "users_df = users_df.merge(invites_df, how='left', left_on='object_id', right_index=True)"
   ]
  },
  {
   "cell_type": "code",
   "execution_count": null,
   "id": "3113f953",
   "metadata": {},
   "outputs": [],
   "source": [
    "users_df.rename({'object_id_x':'object_id', 'object_id_y': 'invite_count'},axis=1, inplace=True)"
   ]
  },
  {
   "cell_type": "code",
   "execution_count": null,
   "id": "f1c02706",
   "metadata": {},
   "outputs": [],
   "source": [
    "users_df.info()"
   ]
  },
  {
   "cell_type": "markdown",
   "id": "6fb143f7",
   "metadata": {},
   "source": [
    "The `object_id` field became object type. We will change it back."
   ]
  },
  {
   "cell_type": "code",
   "execution_count": null,
   "id": "d7834e89",
   "metadata": {},
   "outputs": [],
   "source": [
    "users_df['object_id'] = users_df['object_id'].astype(int)"
   ]
  },
  {
   "cell_type": "markdown",
   "id": "5c8d5e80",
   "metadata": {},
   "source": [
    "As earlier, it makes sense for all null `invite_count` entries to be zero."
   ]
  },
  {
   "cell_type": "code",
   "execution_count": null,
   "id": "8d4b4449",
   "metadata": {},
   "outputs": [],
   "source": [
    "users_df.fillna(value={'invite_count': 0}, inplace=True)"
   ]
  },
  {
   "cell_type": "code",
   "execution_count": null,
   "id": "e10da983",
   "metadata": {},
   "outputs": [],
   "source": [
    "users_df.info()"
   ]
  },
  {
   "cell_type": "markdown",
   "id": "522afa4c",
   "metadata": {},
   "source": [
    "Rather than track who a user was invited by, we can track simply whether they were invited or not."
   ]
  },
  {
   "cell_type": "code",
   "execution_count": null,
   "id": "0830f758",
   "metadata": {},
   "outputs": [],
   "source": [
    "users_df['was_invited'] = users_df['invited_by_user_id'].notna().astype(int)"
   ]
  },
  {
   "cell_type": "code",
   "execution_count": null,
   "id": "41d5adee",
   "metadata": {},
   "outputs": [],
   "source": [
    "users_df.head()"
   ]
  },
  {
   "cell_type": "code",
   "execution_count": null,
   "id": "30d2b6f6",
   "metadata": {},
   "outputs": [],
   "source": [
    "users_df.was_invited.value_counts()"
   ]
  },
  {
   "cell_type": "markdown",
   "id": "19a16cfd",
   "metadata": {},
   "source": [
    "The field `org_id` is meaningless by itself, but we can track the number of users in each org grouping."
   ]
  },
  {
   "cell_type": "code",
   "execution_count": null,
   "id": "e152f0ab",
   "metadata": {},
   "outputs": [],
   "source": [
    "orgs_df = users_df[['object_id', 'org_id']].groupby('org_id').count()\n",
    "orgs_df.rename({'object_id': 'org_count'}, axis=1, inplace=True)"
   ]
  },
  {
   "cell_type": "code",
   "execution_count": null,
   "id": "e4c048f2",
   "metadata": {},
   "outputs": [],
   "source": [
    "orgs_df.head()"
   ]
  },
  {
   "cell_type": "code",
   "execution_count": null,
   "id": "6f26d3f9",
   "metadata": {},
   "outputs": [],
   "source": [
    "users_df = users_df.merge(orgs_df, how='left', left_on='org_id', right_index=True)"
   ]
  },
  {
   "cell_type": "code",
   "execution_count": null,
   "id": "5ec0f876",
   "metadata": {},
   "outputs": [],
   "source": [
    "users_df.head()"
   ]
  },
  {
   "cell_type": "code",
   "execution_count": null,
   "id": "4e00ea5e",
   "metadata": {},
   "outputs": [],
   "source": [
    "users_df.info()"
   ]
  },
  {
   "cell_type": "markdown",
   "id": "e54acf5f",
   "metadata": {},
   "source": [
    "The specific time that an account was created is unlikely to tell us anything. However, we can determine how early/late the account was created relative to others."
   ]
  },
  {
   "cell_type": "code",
   "execution_count": null,
   "id": "b7cdd5bd",
   "metadata": {},
   "outputs": [],
   "source": [
    "min_creation_time = users_df.creation_time.min()\n",
    "print(min_creation_time)"
   ]
  },
  {
   "cell_type": "code",
   "execution_count": null,
   "id": "a4dac1bd",
   "metadata": {},
   "outputs": [],
   "source": [
    "users_df['creation_days_since_start'] = users_df['creation_time'] - min_creation_time"
   ]
  },
  {
   "cell_type": "code",
   "execution_count": null,
   "id": "11fd923e",
   "metadata": {},
   "outputs": [],
   "source": [
    "users_df['creation_days_since_start'] = users_df['creation_days_since_start'].apply(lambda x: x.days)"
   ]
  },
  {
   "cell_type": "code",
   "execution_count": null,
   "id": "b5ccdaa4",
   "metadata": {},
   "outputs": [],
   "source": [
    "users_df.head()"
   ]
  },
  {
   "cell_type": "markdown",
   "id": "981f5fc4",
   "metadata": {},
   "source": [
    "Most importantly, we need to determine whether or not users are adopted users. An adopted user is considered to be a user who has logged into the product on three separate days in at least one seven-day period. Since we're only given a single login timestamp for each session, we can't consider total session length."
   ]
  },
  {
   "cell_type": "code",
   "execution_count": null,
   "id": "84b1e149",
   "metadata": {},
   "outputs": [],
   "source": [
    "users_df.session_count.describe()"
   ]
  },
  {
   "cell_type": "code",
   "execution_count": null,
   "id": "92563b37",
   "metadata": {},
   "outputs": [],
   "source": [
    "# At least three separate days are required over a single seven day period. \n",
    "REQUIRED_COUNT = 3\n",
    "REQUIRED_LENGTH = 7\n",
    "\n",
    "def is_adopted_user(timestamps):\n",
    "    '''\n",
    "    Given a series of timestamps corresponding to a user's session logins, determines whether that user is an adopted user.\n",
    "    '''\n",
    "    # If there aren't even three sessions, there can't be three different days. \n",
    "    if len(timestamps) < REQUIRED_COUNT:\n",
    "        return False\n",
    "    \n",
    "    # Convert the timestamps to a list of dates.\n",
    "    # Although we are allowed to assume no two rows for a single user duplicate dates, we can easily eliminate duplicates\n",
    "    #   by assigning to a set and then back to a list.\n",
    "    dates = [t.date() for t in timestamps]\n",
    "    # Sort the dates to make counting work easier.\n",
    "    dates.sort()\n",
    "    \n",
    "    # Iterate over 3 session groups.\n",
    "    # We compare the first session (index 0) with the third session (index 2) to determine if there are fewer than seven\n",
    "    #   days passing between the sessions. If the time difference is seven days or more, the sessions weren't in the same\n",
    "    #   seven day period. For example, if sessions are on January 1st, 4th, and 8th, then the time difference will be\n",
    "    #   seven days, but the sessions were in an 8 day period.\n",
    "    jmp = REQUIRED_COUNT - 1\n",
    "    n = len(dates) - jmp\n",
    "    for i in range(n):\n",
    "        first_session = dates[i]\n",
    "        last_session = dates[i + jmp]\n",
    "        time_diff = last_session - first_session\n",
    "        \n",
    "        # time_diff is a dt.timedelta. Check the number of days in the period.\n",
    "        if time_diff.days < REQUIRED_LENGTH:\n",
    "            return True\n",
    "    \n",
    "    # Fall through. Iterating over the sessions found no acceptable adoption period. There were enough sessions to \n",
    "    #   potentially be an adopted user, but the sessions were too far apart.\n",
    "    return False"
   ]
  },
  {
   "cell_type": "code",
   "execution_count": null,
   "id": "b38bfaac",
   "metadata": {},
   "outputs": [],
   "source": [
    "# Broadcast a default value of False, then update users which are true.\n",
    "users_df['is_adopted'] = 0\n",
    "for user in engage_df.groupby('user_id'):\n",
    "    user_no = user[0]\n",
    "    timestamps = user[1].time_stamp\n",
    "    if is_adopted_user(timestamps):\n",
    "        users_df.loc[user_no, 'is_adopted'] = 1"
   ]
  },
  {
   "cell_type": "code",
   "execution_count": null,
   "id": "9fd4c193",
   "metadata": {},
   "outputs": [],
   "source": [
    "users_df.info()"
   ]
  },
  {
   "cell_type": "code",
   "execution_count": null,
   "id": "6c2bb1ba",
   "metadata": {},
   "outputs": [],
   "source": [
    "users_df.is_adopted.value_counts()"
   ]
  },
  {
   "cell_type": "code",
   "execution_count": null,
   "id": "a327887f",
   "metadata": {},
   "outputs": [],
   "source": [
    "print(f'{1602/8823:0.3%}')"
   ]
  },
  {
   "cell_type": "code",
   "execution_count": null,
   "id": "aa47c17e",
   "metadata": {},
   "outputs": [],
   "source": [
    "print(f'{1602/12000:0.3%}')"
   ]
  },
  {
   "cell_type": "markdown",
   "id": "fff0c7e6",
   "metadata": {},
   "source": [
    "Of the 8823 users who logged in at least once, only 1602 (18.157%, 13.350% of all users) became adopted."
   ]
  },
  {
   "cell_type": "markdown",
   "id": "c0a33546",
   "metadata": {},
   "source": [
    "Of the remaining fields, `object_id`, `name` and `email` will not play a role in the analysis. Additionally, `creation_time`, `org_id`, `last_session_creation_time` and `invited_by_user_id` are now largely covered by other fields."
   ]
  },
  {
   "cell_type": "code",
   "execution_count": null,
   "id": "3750488f",
   "metadata": {},
   "outputs": [],
   "source": [
    "users_df.set_index('object_id',drop=True, inplace=True)"
   ]
  },
  {
   "cell_type": "code",
   "execution_count": null,
   "id": "c8898ea5",
   "metadata": {},
   "outputs": [],
   "source": [
    "users_df.drop(['name', 'email', 'creation_time', 'org_id', 'last_session_creation_time', 'invited_by_user_id'], \n",
    "              axis=1, inplace=True)"
   ]
  },
  {
   "cell_type": "code",
   "execution_count": null,
   "id": "58114ed4",
   "metadata": {},
   "outputs": [],
   "source": [
    "users_df.info()"
   ]
  },
  {
   "cell_type": "code",
   "execution_count": null,
   "id": "7e67df34",
   "metadata": {},
   "outputs": [],
   "source": [
    "users_df = pd.concat(\n",
    "        [users_df.drop('creation_source',axis=1), pd.get_dummies(users_df['creation_source'], prefix='source')],\n",
    "         axis=1)"
   ]
  },
  {
   "cell_type": "code",
   "execution_count": null,
   "id": "94ce6bd2",
   "metadata": {},
   "outputs": [],
   "source": [
    "users_df.head()"
   ]
  },
  {
   "cell_type": "code",
   "execution_count": null,
   "id": "3c908c23",
   "metadata": {},
   "outputs": [],
   "source": [
    "users_df.info()"
   ]
  },
  {
   "cell_type": "markdown",
   "id": "9d41c97c",
   "metadata": {},
   "source": [
    "# EDA"
   ]
  },
  {
   "cell_type": "code",
   "execution_count": null,
   "id": "2e7347f1",
   "metadata": {},
   "outputs": [],
   "source": [
    "users_df.describe()"
   ]
  },
  {
   "cell_type": "markdown",
   "id": "e81f7789",
   "metadata": {},
   "source": [
    "Set aside users who login at least three times, as these are the only users that could potentially become adopted."
   ]
  },
  {
   "cell_type": "code",
   "execution_count": null,
   "id": "fb1112f2",
   "metadata": {},
   "outputs": [],
   "source": [
    "heavy_users = users_df.session_count >= 3"
   ]
  },
  {
   "cell_type": "code",
   "execution_count": null,
   "id": "1a220801",
   "metadata": {},
   "outputs": [],
   "source": [
    "print(heavy_users.sum())"
   ]
  },
  {
   "cell_type": "markdown",
   "id": "e1af6b7a",
   "metadata": {},
   "source": [
    "Normalize features."
   ]
  },
  {
   "cell_type": "code",
   "execution_count": null,
   "id": "142ec6ae",
   "metadata": {},
   "outputs": [],
   "source": [
    "users_df /= users_df.max()"
   ]
  },
  {
   "cell_type": "code",
   "execution_count": null,
   "id": "3b5ea060",
   "metadata": {},
   "outputs": [],
   "source": [
    "users_df.describe()"
   ]
  },
  {
   "cell_type": "code",
   "execution_count": null,
   "id": "ba9bf636",
   "metadata": {},
   "outputs": [],
   "source": [
    "f, ax = plt.subplots(figsize=(12, 12))\n",
    "sns.heatmap(users_df.corr(), cmap='vlag', vmin=-1, vmax=1, annot=True, center=0, fmt='0.3f',\n",
    "            square=True, linewidths=.5, cbar_kws={\"shrink\": .8}, annot_kws={'rotation': 45});"
   ]
  },
  {
   "cell_type": "markdown",
   "id": "8a6d964d",
   "metadata": {},
   "source": [
    "The field `is_adopted` has little correlation with other fields at first glance. This remains the same when looking only at users with three or more sessions."
   ]
  },
  {
   "cell_type": "code",
   "execution_count": null,
   "id": "4e1bd22c",
   "metadata": {},
   "outputs": [],
   "source": [
    "f, ax = plt.subplots(figsize=(12, 12))\n",
    "sns.heatmap(users_df[heavy_users].corr(), cmap='vlag', vmin=-1, vmax=1, annot=True, center=0, fmt='0.3f',\n",
    "            square=True, linewidths=.5, cbar_kws={\"shrink\": .8}, annot_kws={'rotation': 45});"
   ]
  },
  {
   "cell_type": "markdown",
   "id": "cfc9672a",
   "metadata": {},
   "source": [
    "## PCA Reduction"
   ]
  },
  {
   "cell_type": "code",
   "execution_count": null,
   "id": "78f21663",
   "metadata": {},
   "outputs": [],
   "source": [
    "pca = PCA(n_components='mle')\n",
    "pca.fit(users_df)\n",
    "print(pca.explained_variance_ratio_)"
   ]
  },
  {
   "cell_type": "code",
   "execution_count": null,
   "id": "f732e7e5",
   "metadata": {},
   "outputs": [],
   "source": [
    "np.cumsum(pca.explained_variance_ratio_)"
   ]
  },
  {
   "cell_type": "markdown",
   "id": "77c3e8b7",
   "metadata": {},
   "source": [
    "The PCA reduction only eliminates two dimensions, so we don't gain much."
   ]
  },
  {
   "cell_type": "markdown",
   "id": "9f34a0c3",
   "metadata": {},
   "source": [
    "# Model Fitting"
   ]
  },
  {
   "cell_type": "markdown",
   "id": "7b71b165",
   "metadata": {},
   "source": [
    "There is some imbalance in our target feature, so we stratify when creating our train/test splits."
   ]
  },
  {
   "cell_type": "code",
   "execution_count": null,
   "id": "b118db80",
   "metadata": {},
   "outputs": [],
   "source": [
    "X = users_df.drop('is_adopted', axis=1)\n",
    "y = users_df['is_adopted']\n",
    "TEST_SIZE = 0.20\n",
    "RANDOM_STATE = 42\n",
    "X_train, X_test, y_train, y_test = train_test_split(X, y, test_size=TEST_SIZE, stratify=users_df['is_adopted'], \n",
    "                                                    random_state=RANDOM_STATE)"
   ]
  },
  {
   "cell_type": "code",
   "execution_count": null,
   "id": "1aa97336",
   "metadata": {},
   "outputs": [],
   "source": [
    "scores = {}\n",
    "def score_classifier(name, y_true, y_pred):\n",
    "    clf_scores = {}\n",
    "    clf_scores['acc'] = metrics.accuracy_score(y_true, y_pred)\n",
    "    clf_scores['bal_acc'] = metrics.balanced_accuracy_score(y_true, y_pred)\n",
    "    clf_scores['f1'] = metrics.f1_score(y_true, y_pred)\n",
    "    clf_scores['prec'] = metrics.precision_score(y_true, y_pred, zero_division=0)\n",
    "    clf_scores['rec'] = metrics.recall_score(y_true, y_pred)\n",
    "    scores[name] = clf_scores"
   ]
  },
  {
   "cell_type": "code",
   "execution_count": null,
   "id": "1c23fdf2",
   "metadata": {},
   "outputs": [],
   "source": [
    "def train_and_score_classifier(name, clf):\n",
    "    clf.fit(X_train, y_train)\n",
    "    y_pred = clf.predict(X_test)\n",
    "    score_classifier(name, y_test, y_pred)"
   ]
  },
  {
   "cell_type": "code",
   "execution_count": null,
   "id": "2931dd0a",
   "metadata": {},
   "outputs": [],
   "source": [
    "def print_classifier_scores(name):\n",
    "    clf_scores = scores[name]\n",
    "    print(f'Accuracy: {clf_scores[\"acc\"]}')\n",
    "    print(f'Balanced Accuracy: {clf_scores[\"bal_acc\"]}')\n",
    "    print(f'F1: {clf_scores[\"f1\"]}')\n",
    "    print(f'Precision: {clf_scores[\"prec\"]}')\n",
    "    print(f'Recall: {clf_scores[\"rec\"]}')"
   ]
  },
  {
   "cell_type": "markdown",
   "id": "798f5b88",
   "metadata": {},
   "source": [
    "## Baselines"
   ]
  },
  {
   "cell_type": "markdown",
   "id": "46fd0716",
   "metadata": {},
   "source": [
    "Two dummy classifiers are trained to provide baselines. The first always chooses the majority class and the second makes a random choice based on the proportion of adopted users in the data set."
   ]
  },
  {
   "cell_type": "code",
   "execution_count": null,
   "id": "d7fffccc",
   "metadata": {},
   "outputs": [],
   "source": [
    "dummy_freq_clf = DummyClassifier(strategy=\"most_frequent\")\n",
    "train_and_score_classifier('dummy_freq', dummy_freq_clf)\n",
    "print_classifier_scores('dummy_freq')"
   ]
  },
  {
   "cell_type": "code",
   "execution_count": null,
   "id": "38eae2d4",
   "metadata": {},
   "outputs": [],
   "source": [
    "dummy_strat_clf = DummyClassifier(strategy=\"stratified\", random_state=RANDOM_STATE)\n",
    "train_and_score_classifier('dummy_strat', dummy_strat_clf)\n",
    "print_classifier_scores('dummy_strat')"
   ]
  },
  {
   "cell_type": "markdown",
   "id": "dbd1104e",
   "metadata": {},
   "source": [
    "## Logistic Regression"
   ]
  },
  {
   "cell_type": "markdown",
   "id": "e60669cd",
   "metadata": {},
   "source": [
    "It seems that logistic regression on its own always predicts no adoption."
   ]
  },
  {
   "cell_type": "code",
   "execution_count": null,
   "id": "1587f50c",
   "metadata": {},
   "outputs": [],
   "source": [
    "lr_clf = LogisticRegression()\n",
    "train_and_score_classifier('logistic', lr_clf)\n",
    "print_classifier_scores('logistic')"
   ]
  },
  {
   "cell_type": "markdown",
   "id": "c7b0ce99",
   "metadata": {},
   "source": [
    "A balanced regression is an improvement."
   ]
  },
  {
   "cell_type": "code",
   "execution_count": null,
   "id": "7806b231",
   "metadata": {},
   "outputs": [],
   "source": [
    "bal_lr_clf = LogisticRegression(class_weight='balanced')\n",
    "train_and_score_classifier('bal_logistic', bal_lr_clf)\n",
    "print_classifier_scores('bal_logistic')"
   ]
  },
  {
   "cell_type": "code",
   "execution_count": null,
   "id": "3bc1b772",
   "metadata": {},
   "outputs": [],
   "source": [
    "lr_l1_clf = LogisticRegression(penalty='l1', solver='liblinear')\n",
    "train_and_score_classifier('logistic_l1_reg', lr_l1_clf)\n",
    "print_classifier_scores('logistic_l1_reg')"
   ]
  },
  {
   "cell_type": "code",
   "execution_count": null,
   "id": "0d42dac0",
   "metadata": {},
   "outputs": [],
   "source": [
    "bal_lr_l1_clf = LogisticRegression(penalty='l1', solver='liblinear', class_weight='balanced')\n",
    "train_and_score_classifier('bal_logistic_l1_reg', bal_lr_l1_clf)\n",
    "print_classifier_scores('bal_logistic_l1_reg')"
   ]
  },
  {
   "cell_type": "markdown",
   "id": "c7ee85f9",
   "metadata": {},
   "source": [
    "## KNN"
   ]
  },
  {
   "cell_type": "code",
   "execution_count": null,
   "id": "0902b715",
   "metadata": {},
   "outputs": [],
   "source": [
    "knn_clf = KNeighborsClassifier()\n",
    "train_and_score_classifier('knn_reg', knn_clf)\n",
    "print_classifier_scores('knn_reg')"
   ]
  },
  {
   "cell_type": "markdown",
   "id": "19298fc1",
   "metadata": {},
   "source": [
    "## Ridge Regression"
   ]
  },
  {
   "cell_type": "code",
   "execution_count": null,
   "id": "a5a2aa6f",
   "metadata": {},
   "outputs": [],
   "source": [
    "rc_clf = RidgeClassifier()\n",
    "train_and_score_classifier('ridge', rc_clf)\n",
    "print_classifier_scores('ridge')"
   ]
  },
  {
   "cell_type": "code",
   "execution_count": null,
   "id": "6dd09bbd",
   "metadata": {},
   "outputs": [],
   "source": [
    "bal_rc_clf = RidgeClassifier(class_weight='balanced')\n",
    "train_and_score_classifier('bal_ridge', bal_rc_clf)\n",
    "print_classifier_scores('bal_ridge')"
   ]
  },
  {
   "cell_type": "markdown",
   "id": "47547dac",
   "metadata": {},
   "source": [
    "## Naive Bayes"
   ]
  },
  {
   "cell_type": "code",
   "execution_count": null,
   "id": "07ee4a18",
   "metadata": {},
   "outputs": [],
   "source": [
    "nb_clf = BernoulliNB()\n",
    "train_and_score_classifier('naive_bayes', nb_clf)\n",
    "print_classifier_scores('naive_bayes')"
   ]
  },
  {
   "cell_type": "markdown",
   "id": "621e5125",
   "metadata": {},
   "source": [
    "## Random Forests"
   ]
  },
  {
   "cell_type": "markdown",
   "id": "73330365",
   "metadata": {},
   "source": [
    "Unlike with logistic regression, balancing the class weight doesn't improve the random forest results."
   ]
  },
  {
   "cell_type": "code",
   "execution_count": null,
   "id": "93f797ed",
   "metadata": {},
   "outputs": [],
   "source": [
    "rf_clf = RandomForestClassifier(random_state=RANDOM_STATE)\n",
    "train_and_score_classifier('random_forest', rf_clf)\n",
    "print_classifier_scores('random_forest')"
   ]
  },
  {
   "cell_type": "code",
   "execution_count": null,
   "id": "7999b8c0",
   "metadata": {},
   "outputs": [],
   "source": [
    "bal_rf_clf = RandomForestClassifier(class_weight='balanced', random_state=RANDOM_STATE)\n",
    "train_and_score_classifier('bal_random_forest', bal_rf_clf)\n",
    "print_classifier_scores('bal_random_forest')"
   ]
  },
  {
   "cell_type": "markdown",
   "id": "08f90756",
   "metadata": {},
   "source": [
    "## Support Vector Classifier"
   ]
  },
  {
   "cell_type": "code",
   "execution_count": null,
   "id": "868f51a0",
   "metadata": {},
   "outputs": [],
   "source": [
    "svc_clf = LinearSVC(dual=False)\n",
    "train_and_score_classifier('svc', svc_clf)\n",
    "print_classifier_scores('svc')"
   ]
  },
  {
   "cell_type": "markdown",
   "id": "b7026dc9",
   "metadata": {},
   "source": [
    "As with logistic regression, we see a slight improvement with a balanced class weight."
   ]
  },
  {
   "cell_type": "code",
   "execution_count": null,
   "id": "aef95e83",
   "metadata": {},
   "outputs": [],
   "source": [
    "bal_svc_clf = LinearSVC(class_weight='balanced', dual=False)\n",
    "train_and_score_classifier('bal_svc', bal_svc_clf)\n",
    "print_classifier_scores('bal_svc')"
   ]
  },
  {
   "cell_type": "markdown",
   "id": "d6e8387e",
   "metadata": {},
   "source": [
    "## Gradient Boosting"
   ]
  },
  {
   "cell_type": "code",
   "execution_count": null,
   "id": "69b633ed",
   "metadata": {},
   "outputs": [],
   "source": [
    "gb_clf = HistGradientBoostingClassifier(random_state=RANDOM_STATE)\n",
    "train_and_score_classifier('grad_boost', gb_clf)\n",
    "print_classifier_scores('grad_boost')"
   ]
  }
 ],
 "metadata": {
  "kernelspec": {
   "display_name": "Python 3",
   "language": "python",
   "name": "python3"
  },
  "language_info": {
   "codemirror_mode": {
    "name": "ipython",
    "version": 3
   },
   "file_extension": ".py",
   "mimetype": "text/x-python",
   "name": "python",
   "nbconvert_exporter": "python",
   "pygments_lexer": "ipython3",
   "version": "3.9.4"
  }
 },
 "nbformat": 4,
 "nbformat_minor": 5
}
