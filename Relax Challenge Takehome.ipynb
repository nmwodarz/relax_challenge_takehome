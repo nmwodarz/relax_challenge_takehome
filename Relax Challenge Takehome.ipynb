{
 "cells": [
  {
   "cell_type": "markdown",
   "id": "ef500945",
   "metadata": {},
   "source": [
    "# Setup"
   ]
  },
  {
   "cell_type": "code",
   "execution_count": 1,
   "id": "49a643d8",
   "metadata": {},
   "outputs": [],
   "source": [
    "import numpy as np\n",
    "import pandas as pd\n",
    "import seaborn as sns\n",
    "import matplotlib.pyplot as plt\n",
    "from sklearn.model_selection import train_test_split\n",
    "from sklearn import metrics\n",
    "from sklearn.dummy import DummyClassifier\n",
    "from sklearn.linear_model import LogisticRegression, RidgeClassifier\n",
    "from sklearn.decomposition import PCA\n",
    "from sklearn.ensemble import RandomForestClassifier\n",
    "from sklearn.svm import LinearSVC\n",
    "from sklearn.experimental import enable_hist_gradient_boosting\n",
    "from sklearn.ensemble import HistGradientBoostingClassifier\n",
    "from sklearn.naive_bayes import BernoulliNB\n",
    "from sklearn.neighbors import KNeighborsClassifier"
   ]
  },
  {
   "cell_type": "markdown",
   "id": "064af1cb",
   "metadata": {},
   "source": [
    "We initially read the user table. Two fields (`creation_time` and `last_session_creation_time`) should be times, but `last_session_creation_time` is given as a Unix epoch timestamp. This won't be read as a date time using the `parse_dates` parameter, but can be converted later."
   ]
  },
  {
   "cell_type": "markdown",
   "id": "8bbf4fb8",
   "metadata": {},
   "source": [
    "Since `opted_in_to_mailing_list` and `enabled_for_marketing_drip` are boolean, we explicitly convert them. Additionally, `invited_by_user_id` should be integer-typed, but the usual int type isn't nullable. We use Pandas Int64 type which is nullable."
   ]
  },
  {
   "cell_type": "code",
   "execution_count": 2,
   "id": "358a853a",
   "metadata": {},
   "outputs": [],
   "source": [
    "users_df = pd.read_csv('./takehome_users.csv', \n",
    "                       parse_dates=['creation_time'], \n",
    "                       dtype= {'invited_by_user_id': 'Int64'})"
   ]
  },
  {
   "cell_type": "code",
   "execution_count": 3,
   "id": "aa110bb1",
   "metadata": {},
   "outputs": [
    {
     "data": {
      "text/html": [
       "<div>\n",
       "<style scoped>\n",
       "    .dataframe tbody tr th:only-of-type {\n",
       "        vertical-align: middle;\n",
       "    }\n",
       "\n",
       "    .dataframe tbody tr th {\n",
       "        vertical-align: top;\n",
       "    }\n",
       "\n",
       "    .dataframe thead th {\n",
       "        text-align: right;\n",
       "    }\n",
       "</style>\n",
       "<table border=\"1\" class=\"dataframe\">\n",
       "  <thead>\n",
       "    <tr style=\"text-align: right;\">\n",
       "      <th></th>\n",
       "      <th>object_id</th>\n",
       "      <th>creation_time</th>\n",
       "      <th>name</th>\n",
       "      <th>email</th>\n",
       "      <th>creation_source</th>\n",
       "      <th>last_session_creation_time</th>\n",
       "      <th>opted_in_to_mailing_list</th>\n",
       "      <th>enabled_for_marketing_drip</th>\n",
       "      <th>org_id</th>\n",
       "      <th>invited_by_user_id</th>\n",
       "    </tr>\n",
       "  </thead>\n",
       "  <tbody>\n",
       "    <tr>\n",
       "      <th>0</th>\n",
       "      <td>1</td>\n",
       "      <td>2014-04-22 03:53:30</td>\n",
       "      <td>Clausen August</td>\n",
       "      <td>AugustCClausen@yahoo.com</td>\n",
       "      <td>GUEST_INVITE</td>\n",
       "      <td>1.398139e+09</td>\n",
       "      <td>1</td>\n",
       "      <td>0</td>\n",
       "      <td>11</td>\n",
       "      <td>10803</td>\n",
       "    </tr>\n",
       "    <tr>\n",
       "      <th>1</th>\n",
       "      <td>2</td>\n",
       "      <td>2013-11-15 03:45:04</td>\n",
       "      <td>Poole Matthew</td>\n",
       "      <td>MatthewPoole@gustr.com</td>\n",
       "      <td>ORG_INVITE</td>\n",
       "      <td>1.396238e+09</td>\n",
       "      <td>0</td>\n",
       "      <td>0</td>\n",
       "      <td>1</td>\n",
       "      <td>316</td>\n",
       "    </tr>\n",
       "    <tr>\n",
       "      <th>2</th>\n",
       "      <td>3</td>\n",
       "      <td>2013-03-19 23:14:52</td>\n",
       "      <td>Bottrill Mitchell</td>\n",
       "      <td>MitchellBottrill@gustr.com</td>\n",
       "      <td>ORG_INVITE</td>\n",
       "      <td>1.363735e+09</td>\n",
       "      <td>0</td>\n",
       "      <td>0</td>\n",
       "      <td>94</td>\n",
       "      <td>1525</td>\n",
       "    </tr>\n",
       "    <tr>\n",
       "      <th>3</th>\n",
       "      <td>4</td>\n",
       "      <td>2013-05-21 08:09:28</td>\n",
       "      <td>Clausen Nicklas</td>\n",
       "      <td>NicklasSClausen@yahoo.com</td>\n",
       "      <td>GUEST_INVITE</td>\n",
       "      <td>1.369210e+09</td>\n",
       "      <td>0</td>\n",
       "      <td>0</td>\n",
       "      <td>1</td>\n",
       "      <td>5151</td>\n",
       "    </tr>\n",
       "    <tr>\n",
       "      <th>4</th>\n",
       "      <td>5</td>\n",
       "      <td>2013-01-17 10:14:20</td>\n",
       "      <td>Raw Grace</td>\n",
       "      <td>GraceRaw@yahoo.com</td>\n",
       "      <td>GUEST_INVITE</td>\n",
       "      <td>1.358850e+09</td>\n",
       "      <td>0</td>\n",
       "      <td>0</td>\n",
       "      <td>193</td>\n",
       "      <td>5240</td>\n",
       "    </tr>\n",
       "  </tbody>\n",
       "</table>\n",
       "</div>"
      ],
      "text/plain": [
       "   object_id       creation_time               name  \\\n",
       "0          1 2014-04-22 03:53:30     Clausen August   \n",
       "1          2 2013-11-15 03:45:04      Poole Matthew   \n",
       "2          3 2013-03-19 23:14:52  Bottrill Mitchell   \n",
       "3          4 2013-05-21 08:09:28    Clausen Nicklas   \n",
       "4          5 2013-01-17 10:14:20          Raw Grace   \n",
       "\n",
       "                        email creation_source  last_session_creation_time  \\\n",
       "0    AugustCClausen@yahoo.com    GUEST_INVITE                1.398139e+09   \n",
       "1      MatthewPoole@gustr.com      ORG_INVITE                1.396238e+09   \n",
       "2  MitchellBottrill@gustr.com      ORG_INVITE                1.363735e+09   \n",
       "3   NicklasSClausen@yahoo.com    GUEST_INVITE                1.369210e+09   \n",
       "4          GraceRaw@yahoo.com    GUEST_INVITE                1.358850e+09   \n",
       "\n",
       "   opted_in_to_mailing_list  enabled_for_marketing_drip  org_id  \\\n",
       "0                         1                           0      11   \n",
       "1                         0                           0       1   \n",
       "2                         0                           0      94   \n",
       "3                         0                           0       1   \n",
       "4                         0                           0     193   \n",
       "\n",
       "   invited_by_user_id  \n",
       "0               10803  \n",
       "1                 316  \n",
       "2                1525  \n",
       "3                5151  \n",
       "4                5240  "
      ]
     },
     "execution_count": 3,
     "metadata": {},
     "output_type": "execute_result"
    }
   ],
   "source": [
    "users_df.head()"
   ]
  },
  {
   "cell_type": "code",
   "execution_count": 4,
   "id": "589ab0ce",
   "metadata": {},
   "outputs": [
    {
     "name": "stdout",
     "output_type": "stream",
     "text": [
      "<class 'pandas.core.frame.DataFrame'>\n",
      "RangeIndex: 12000 entries, 0 to 11999\n",
      "Data columns (total 10 columns):\n",
      " #   Column                      Non-Null Count  Dtype         \n",
      "---  ------                      --------------  -----         \n",
      " 0   object_id                   12000 non-null  int64         \n",
      " 1   creation_time               12000 non-null  datetime64[ns]\n",
      " 2   name                        12000 non-null  object        \n",
      " 3   email                       12000 non-null  object        \n",
      " 4   creation_source             12000 non-null  object        \n",
      " 5   last_session_creation_time  8823 non-null   float64       \n",
      " 6   opted_in_to_mailing_list    12000 non-null  int64         \n",
      " 7   enabled_for_marketing_drip  12000 non-null  int64         \n",
      " 8   org_id                      12000 non-null  int64         \n",
      " 9   invited_by_user_id          6417 non-null   Int64         \n",
      "dtypes: Int64(1), datetime64[ns](1), float64(1), int64(4), object(3)\n",
      "memory usage: 949.3+ KB\n"
     ]
    }
   ],
   "source": [
    "users_df.info()"
   ]
  },
  {
   "cell_type": "code",
   "execution_count": 5,
   "id": "24989254",
   "metadata": {},
   "outputs": [],
   "source": [
    "users_df['last_session_creation_time'] = pd.to_datetime(users_df['last_session_creation_time'],unit='s')"
   ]
  },
  {
   "cell_type": "code",
   "execution_count": 6,
   "id": "5a940d94",
   "metadata": {},
   "outputs": [
    {
     "data": {
      "text/html": [
       "<div>\n",
       "<style scoped>\n",
       "    .dataframe tbody tr th:only-of-type {\n",
       "        vertical-align: middle;\n",
       "    }\n",
       "\n",
       "    .dataframe tbody tr th {\n",
       "        vertical-align: top;\n",
       "    }\n",
       "\n",
       "    .dataframe thead th {\n",
       "        text-align: right;\n",
       "    }\n",
       "</style>\n",
       "<table border=\"1\" class=\"dataframe\">\n",
       "  <thead>\n",
       "    <tr style=\"text-align: right;\">\n",
       "      <th></th>\n",
       "      <th>object_id</th>\n",
       "      <th>creation_time</th>\n",
       "      <th>name</th>\n",
       "      <th>email</th>\n",
       "      <th>creation_source</th>\n",
       "      <th>last_session_creation_time</th>\n",
       "      <th>opted_in_to_mailing_list</th>\n",
       "      <th>enabled_for_marketing_drip</th>\n",
       "      <th>org_id</th>\n",
       "      <th>invited_by_user_id</th>\n",
       "    </tr>\n",
       "  </thead>\n",
       "  <tbody>\n",
       "    <tr>\n",
       "      <th>0</th>\n",
       "      <td>1</td>\n",
       "      <td>2014-04-22 03:53:30</td>\n",
       "      <td>Clausen August</td>\n",
       "      <td>AugustCClausen@yahoo.com</td>\n",
       "      <td>GUEST_INVITE</td>\n",
       "      <td>2014-04-22 03:53:30</td>\n",
       "      <td>1</td>\n",
       "      <td>0</td>\n",
       "      <td>11</td>\n",
       "      <td>10803</td>\n",
       "    </tr>\n",
       "    <tr>\n",
       "      <th>1</th>\n",
       "      <td>2</td>\n",
       "      <td>2013-11-15 03:45:04</td>\n",
       "      <td>Poole Matthew</td>\n",
       "      <td>MatthewPoole@gustr.com</td>\n",
       "      <td>ORG_INVITE</td>\n",
       "      <td>2014-03-31 03:45:04</td>\n",
       "      <td>0</td>\n",
       "      <td>0</td>\n",
       "      <td>1</td>\n",
       "      <td>316</td>\n",
       "    </tr>\n",
       "    <tr>\n",
       "      <th>2</th>\n",
       "      <td>3</td>\n",
       "      <td>2013-03-19 23:14:52</td>\n",
       "      <td>Bottrill Mitchell</td>\n",
       "      <td>MitchellBottrill@gustr.com</td>\n",
       "      <td>ORG_INVITE</td>\n",
       "      <td>2013-03-19 23:14:52</td>\n",
       "      <td>0</td>\n",
       "      <td>0</td>\n",
       "      <td>94</td>\n",
       "      <td>1525</td>\n",
       "    </tr>\n",
       "    <tr>\n",
       "      <th>3</th>\n",
       "      <td>4</td>\n",
       "      <td>2013-05-21 08:09:28</td>\n",
       "      <td>Clausen Nicklas</td>\n",
       "      <td>NicklasSClausen@yahoo.com</td>\n",
       "      <td>GUEST_INVITE</td>\n",
       "      <td>2013-05-22 08:09:28</td>\n",
       "      <td>0</td>\n",
       "      <td>0</td>\n",
       "      <td>1</td>\n",
       "      <td>5151</td>\n",
       "    </tr>\n",
       "    <tr>\n",
       "      <th>4</th>\n",
       "      <td>5</td>\n",
       "      <td>2013-01-17 10:14:20</td>\n",
       "      <td>Raw Grace</td>\n",
       "      <td>GraceRaw@yahoo.com</td>\n",
       "      <td>GUEST_INVITE</td>\n",
       "      <td>2013-01-22 10:14:20</td>\n",
       "      <td>0</td>\n",
       "      <td>0</td>\n",
       "      <td>193</td>\n",
       "      <td>5240</td>\n",
       "    </tr>\n",
       "  </tbody>\n",
       "</table>\n",
       "</div>"
      ],
      "text/plain": [
       "   object_id       creation_time               name  \\\n",
       "0          1 2014-04-22 03:53:30     Clausen August   \n",
       "1          2 2013-11-15 03:45:04      Poole Matthew   \n",
       "2          3 2013-03-19 23:14:52  Bottrill Mitchell   \n",
       "3          4 2013-05-21 08:09:28    Clausen Nicklas   \n",
       "4          5 2013-01-17 10:14:20          Raw Grace   \n",
       "\n",
       "                        email creation_source last_session_creation_time  \\\n",
       "0    AugustCClausen@yahoo.com    GUEST_INVITE        2014-04-22 03:53:30   \n",
       "1      MatthewPoole@gustr.com      ORG_INVITE        2014-03-31 03:45:04   \n",
       "2  MitchellBottrill@gustr.com      ORG_INVITE        2013-03-19 23:14:52   \n",
       "3   NicklasSClausen@yahoo.com    GUEST_INVITE        2013-05-22 08:09:28   \n",
       "4          GraceRaw@yahoo.com    GUEST_INVITE        2013-01-22 10:14:20   \n",
       "\n",
       "   opted_in_to_mailing_list  enabled_for_marketing_drip  org_id  \\\n",
       "0                         1                           0      11   \n",
       "1                         0                           0       1   \n",
       "2                         0                           0      94   \n",
       "3                         0                           0       1   \n",
       "4                         0                           0     193   \n",
       "\n",
       "   invited_by_user_id  \n",
       "0               10803  \n",
       "1                 316  \n",
       "2                1525  \n",
       "3                5151  \n",
       "4                5240  "
      ]
     },
     "execution_count": 6,
     "metadata": {},
     "output_type": "execute_result"
    }
   ],
   "source": [
    "users_df.head()"
   ]
  },
  {
   "cell_type": "code",
   "execution_count": 7,
   "id": "d7f7d89a",
   "metadata": {},
   "outputs": [
    {
     "name": "stdout",
     "output_type": "stream",
     "text": [
      "<class 'pandas.core.frame.DataFrame'>\n",
      "RangeIndex: 12000 entries, 0 to 11999\n",
      "Data columns (total 10 columns):\n",
      " #   Column                      Non-Null Count  Dtype         \n",
      "---  ------                      --------------  -----         \n",
      " 0   object_id                   12000 non-null  int64         \n",
      " 1   creation_time               12000 non-null  datetime64[ns]\n",
      " 2   name                        12000 non-null  object        \n",
      " 3   email                       12000 non-null  object        \n",
      " 4   creation_source             12000 non-null  object        \n",
      " 5   last_session_creation_time  8823 non-null   datetime64[ns]\n",
      " 6   opted_in_to_mailing_list    12000 non-null  int64         \n",
      " 7   enabled_for_marketing_drip  12000 non-null  int64         \n",
      " 8   org_id                      12000 non-null  int64         \n",
      " 9   invited_by_user_id          6417 non-null   Int64         \n",
      "dtypes: Int64(1), datetime64[ns](2), int64(4), object(3)\n",
      "memory usage: 949.3+ KB\n"
     ]
    }
   ],
   "source": [
    "users_df.info()"
   ]
  },
  {
   "cell_type": "markdown",
   "id": "bb9b7430",
   "metadata": {},
   "source": [
    "Now, read the engagement table. Here, the only optional argument is to read the `time_stamp` column as a datetime."
   ]
  },
  {
   "cell_type": "code",
   "execution_count": 8,
   "id": "a37f4e06",
   "metadata": {},
   "outputs": [],
   "source": [
    "engage_df = pd.read_csv('./takehome_user_engagement.csv', parse_dates=['time_stamp'])"
   ]
  },
  {
   "cell_type": "code",
   "execution_count": 9,
   "id": "22672fe1",
   "metadata": {},
   "outputs": [
    {
     "data": {
      "text/html": [
       "<div>\n",
       "<style scoped>\n",
       "    .dataframe tbody tr th:only-of-type {\n",
       "        vertical-align: middle;\n",
       "    }\n",
       "\n",
       "    .dataframe tbody tr th {\n",
       "        vertical-align: top;\n",
       "    }\n",
       "\n",
       "    .dataframe thead th {\n",
       "        text-align: right;\n",
       "    }\n",
       "</style>\n",
       "<table border=\"1\" class=\"dataframe\">\n",
       "  <thead>\n",
       "    <tr style=\"text-align: right;\">\n",
       "      <th></th>\n",
       "      <th>time_stamp</th>\n",
       "      <th>user_id</th>\n",
       "      <th>visited</th>\n",
       "    </tr>\n",
       "  </thead>\n",
       "  <tbody>\n",
       "    <tr>\n",
       "      <th>0</th>\n",
       "      <td>2014-04-22 03:53:30</td>\n",
       "      <td>1</td>\n",
       "      <td>1</td>\n",
       "    </tr>\n",
       "    <tr>\n",
       "      <th>1</th>\n",
       "      <td>2013-11-15 03:45:04</td>\n",
       "      <td>2</td>\n",
       "      <td>1</td>\n",
       "    </tr>\n",
       "    <tr>\n",
       "      <th>2</th>\n",
       "      <td>2013-11-29 03:45:04</td>\n",
       "      <td>2</td>\n",
       "      <td>1</td>\n",
       "    </tr>\n",
       "    <tr>\n",
       "      <th>3</th>\n",
       "      <td>2013-12-09 03:45:04</td>\n",
       "      <td>2</td>\n",
       "      <td>1</td>\n",
       "    </tr>\n",
       "    <tr>\n",
       "      <th>4</th>\n",
       "      <td>2013-12-25 03:45:04</td>\n",
       "      <td>2</td>\n",
       "      <td>1</td>\n",
       "    </tr>\n",
       "  </tbody>\n",
       "</table>\n",
       "</div>"
      ],
      "text/plain": [
       "           time_stamp  user_id  visited\n",
       "0 2014-04-22 03:53:30        1        1\n",
       "1 2013-11-15 03:45:04        2        1\n",
       "2 2013-11-29 03:45:04        2        1\n",
       "3 2013-12-09 03:45:04        2        1\n",
       "4 2013-12-25 03:45:04        2        1"
      ]
     },
     "execution_count": 9,
     "metadata": {},
     "output_type": "execute_result"
    }
   ],
   "source": [
    "engage_df.head()"
   ]
  },
  {
   "cell_type": "code",
   "execution_count": 10,
   "id": "4cb43a8c",
   "metadata": {},
   "outputs": [
    {
     "name": "stdout",
     "output_type": "stream",
     "text": [
      "<class 'pandas.core.frame.DataFrame'>\n",
      "RangeIndex: 207917 entries, 0 to 207916\n",
      "Data columns (total 3 columns):\n",
      " #   Column      Non-Null Count   Dtype         \n",
      "---  ------      --------------   -----         \n",
      " 0   time_stamp  207917 non-null  datetime64[ns]\n",
      " 1   user_id     207917 non-null  int64         \n",
      " 2   visited     207917 non-null  int64         \n",
      "dtypes: datetime64[ns](1), int64(2)\n",
      "memory usage: 4.8 MB\n"
     ]
    }
   ],
   "source": [
    "engage_df.info()"
   ]
  },
  {
   "cell_type": "code",
   "execution_count": 11,
   "id": "700e6160",
   "metadata": {},
   "outputs": [
    {
     "data": {
      "text/plain": [
       "array([1], dtype=int64)"
      ]
     },
     "execution_count": 11,
     "metadata": {},
     "output_type": "execute_result"
    }
   ],
   "source": [
    "engage_df.visited.unique()"
   ]
  },
  {
   "cell_type": "code",
   "execution_count": 12,
   "id": "ad71cb03",
   "metadata": {},
   "outputs": [
    {
     "data": {
      "text/plain": [
       "1    207917\n",
       "Name: visited, dtype: int64"
      ]
     },
     "execution_count": 12,
     "metadata": {},
     "output_type": "execute_result"
    }
   ],
   "source": [
    "engage_df.visited.value_counts()"
   ]
  },
  {
   "cell_type": "markdown",
   "id": "13b58a62",
   "metadata": {},
   "source": [
    "There is no reason to continue carrying `visited` as a field as it adds nothing of value."
   ]
  },
  {
   "cell_type": "code",
   "execution_count": 13,
   "id": "d989f803",
   "metadata": {},
   "outputs": [],
   "source": [
    "engage_df.drop('visited', axis=1, inplace=True)"
   ]
  },
  {
   "cell_type": "markdown",
   "id": "7d716be3",
   "metadata": {},
   "source": [
    "# Feature Engineering"
   ]
  },
  {
   "cell_type": "markdown",
   "id": "a380eee1",
   "metadata": {},
   "source": [
    "Most user data is present. There are two fields with null values - `last_session_creation_time` and `invited_by_user_id`. The latter is not surprising as we would not expect all users to join via invite. However, we might expect all users to have a `last_session_creation_time`. We can count the number of sessions per user."
   ]
  },
  {
   "cell_type": "code",
   "execution_count": 14,
   "id": "ca5003c4",
   "metadata": {},
   "outputs": [],
   "source": [
    "session_count_df = engage_df.groupby('user_id').count()"
   ]
  },
  {
   "cell_type": "markdown",
   "id": "54279a86",
   "metadata": {},
   "source": [
    "It seems to be notable that there are 8823 rows in the grouped session data, the same as in the user data."
   ]
  },
  {
   "cell_type": "code",
   "execution_count": 15,
   "id": "ea49976a",
   "metadata": {},
   "outputs": [
    {
     "name": "stdout",
     "output_type": "stream",
     "text": [
      "<class 'pandas.core.frame.DataFrame'>\n",
      "Int64Index: 8823 entries, 1 to 12000\n",
      "Data columns (total 1 columns):\n",
      " #   Column      Non-Null Count  Dtype\n",
      "---  ------      --------------  -----\n",
      " 0   time_stamp  8823 non-null   int64\n",
      "dtypes: int64(1)\n",
      "memory usage: 137.9 KB\n"
     ]
    }
   ],
   "source": [
    "session_count_df.info()"
   ]
  },
  {
   "cell_type": "markdown",
   "id": "a3f47819",
   "metadata": {},
   "source": [
    "Change the field name to something more descriptive."
   ]
  },
  {
   "cell_type": "code",
   "execution_count": 16,
   "id": "32ff3c9c",
   "metadata": {},
   "outputs": [],
   "source": [
    "session_count_df.rename({'time_stamp': 'session_count'}, axis=1, inplace=True)"
   ]
  },
  {
   "cell_type": "code",
   "execution_count": 17,
   "id": "21af11b3",
   "metadata": {},
   "outputs": [
    {
     "name": "stdout",
     "output_type": "stream",
     "text": [
      "<class 'pandas.core.frame.DataFrame'>\n",
      "Int64Index: 8823 entries, 1 to 12000\n",
      "Data columns (total 1 columns):\n",
      " #   Column         Non-Null Count  Dtype\n",
      "---  ------         --------------  -----\n",
      " 0   session_count  8823 non-null   int64\n",
      "dtypes: int64(1)\n",
      "memory usage: 137.9 KB\n"
     ]
    }
   ],
   "source": [
    "session_count_df.info()"
   ]
  },
  {
   "cell_type": "code",
   "execution_count": 18,
   "id": "1458c2ee",
   "metadata": {},
   "outputs": [],
   "source": [
    "users_df = users_df.merge(session_count_df, how='left', left_on='object_id', right_index=True)"
   ]
  },
  {
   "cell_type": "code",
   "execution_count": 19,
   "id": "3a36ee5b",
   "metadata": {},
   "outputs": [
    {
     "name": "stdout",
     "output_type": "stream",
     "text": [
      "<class 'pandas.core.frame.DataFrame'>\n",
      "RangeIndex: 12000 entries, 0 to 11999\n",
      "Data columns (total 11 columns):\n",
      " #   Column                      Non-Null Count  Dtype         \n",
      "---  ------                      --------------  -----         \n",
      " 0   object_id                   12000 non-null  int64         \n",
      " 1   creation_time               12000 non-null  datetime64[ns]\n",
      " 2   name                        12000 non-null  object        \n",
      " 3   email                       12000 non-null  object        \n",
      " 4   creation_source             12000 non-null  object        \n",
      " 5   last_session_creation_time  8823 non-null   datetime64[ns]\n",
      " 6   opted_in_to_mailing_list    12000 non-null  int64         \n",
      " 7   enabled_for_marketing_drip  12000 non-null  int64         \n",
      " 8   org_id                      12000 non-null  int64         \n",
      " 9   invited_by_user_id          6417 non-null   Int64         \n",
      " 10  session_count               8823 non-null   float64       \n",
      "dtypes: Int64(1), datetime64[ns](2), float64(1), int64(4), object(3)\n",
      "memory usage: 1.0+ MB\n"
     ]
    }
   ],
   "source": [
    "users_df.info()"
   ]
  },
  {
   "cell_type": "markdown",
   "id": "899a793e",
   "metadata": {},
   "source": [
    "Unsurprisingly, session counts are zero for users with null `last_session_creation_time`."
   ]
  },
  {
   "cell_type": "code",
   "execution_count": 20,
   "id": "b7134efb",
   "metadata": {},
   "outputs": [
    {
     "name": "stdout",
     "output_type": "stream",
     "text": [
      "<class 'pandas.core.frame.DataFrame'>\n",
      "Int64Index: 3177 entries, 7 to 11993\n",
      "Data columns (total 11 columns):\n",
      " #   Column                      Non-Null Count  Dtype         \n",
      "---  ------                      --------------  -----         \n",
      " 0   object_id                   3177 non-null   int64         \n",
      " 1   creation_time               3177 non-null   datetime64[ns]\n",
      " 2   name                        3177 non-null   object        \n",
      " 3   email                       3177 non-null   object        \n",
      " 4   creation_source             3177 non-null   object        \n",
      " 5   last_session_creation_time  0 non-null      datetime64[ns]\n",
      " 6   opted_in_to_mailing_list    3177 non-null   int64         \n",
      " 7   enabled_for_marketing_drip  3177 non-null   int64         \n",
      " 8   org_id                      3177 non-null   int64         \n",
      " 9   invited_by_user_id          1641 non-null   Int64         \n",
      " 10  session_count               0 non-null      float64       \n",
      "dtypes: Int64(1), datetime64[ns](2), float64(1), int64(4), object(3)\n",
      "memory usage: 300.9+ KB\n"
     ]
    }
   ],
   "source": [
    "users_df[users_df.last_session_creation_time.isna()].info()"
   ]
  },
  {
   "cell_type": "markdown",
   "id": "78ba4fcc",
   "metadata": {},
   "source": [
    "In the `session_count` field, null values have a natural interpretation as a zero count."
   ]
  },
  {
   "cell_type": "code",
   "execution_count": 21,
   "id": "992aeae8",
   "metadata": {},
   "outputs": [],
   "source": [
    "users_df.fillna(value={'session_count': 0}, inplace=True)"
   ]
  },
  {
   "cell_type": "code",
   "execution_count": 22,
   "id": "d83b778e",
   "metadata": {},
   "outputs": [
    {
     "name": "stdout",
     "output_type": "stream",
     "text": [
      "<class 'pandas.core.frame.DataFrame'>\n",
      "RangeIndex: 12000 entries, 0 to 11999\n",
      "Data columns (total 11 columns):\n",
      " #   Column                      Non-Null Count  Dtype         \n",
      "---  ------                      --------------  -----         \n",
      " 0   object_id                   12000 non-null  int64         \n",
      " 1   creation_time               12000 non-null  datetime64[ns]\n",
      " 2   name                        12000 non-null  object        \n",
      " 3   email                       12000 non-null  object        \n",
      " 4   creation_source             12000 non-null  object        \n",
      " 5   last_session_creation_time  8823 non-null   datetime64[ns]\n",
      " 6   opted_in_to_mailing_list    12000 non-null  int64         \n",
      " 7   enabled_for_marketing_drip  12000 non-null  int64         \n",
      " 8   org_id                      12000 non-null  int64         \n",
      " 9   invited_by_user_id          6417 non-null   Int64         \n",
      " 10  session_count               12000 non-null  float64       \n",
      "dtypes: Int64(1), datetime64[ns](2), float64(1), int64(4), object(3)\n",
      "memory usage: 1.0+ MB\n"
     ]
    }
   ],
   "source": [
    "users_df.info()"
   ]
  },
  {
   "cell_type": "markdown",
   "id": "14ef054a",
   "metadata": {},
   "source": [
    "The `session_count` column can be cast to integer now since it no longer has null values."
   ]
  },
  {
   "cell_type": "code",
   "execution_count": 23,
   "id": "9135ebfd",
   "metadata": {},
   "outputs": [],
   "source": [
    "users_df['session_count'] = users_df['session_count'].astype(int)"
   ]
  },
  {
   "cell_type": "code",
   "execution_count": 24,
   "id": "2716d675",
   "metadata": {},
   "outputs": [
    {
     "name": "stdout",
     "output_type": "stream",
     "text": [
      "<class 'pandas.core.frame.DataFrame'>\n",
      "RangeIndex: 12000 entries, 0 to 11999\n",
      "Data columns (total 11 columns):\n",
      " #   Column                      Non-Null Count  Dtype         \n",
      "---  ------                      --------------  -----         \n",
      " 0   object_id                   12000 non-null  int64         \n",
      " 1   creation_time               12000 non-null  datetime64[ns]\n",
      " 2   name                        12000 non-null  object        \n",
      " 3   email                       12000 non-null  object        \n",
      " 4   creation_source             12000 non-null  object        \n",
      " 5   last_session_creation_time  8823 non-null   datetime64[ns]\n",
      " 6   opted_in_to_mailing_list    12000 non-null  int64         \n",
      " 7   enabled_for_marketing_drip  12000 non-null  int64         \n",
      " 8   org_id                      12000 non-null  int64         \n",
      " 9   invited_by_user_id          6417 non-null   Int64         \n",
      " 10  session_count               12000 non-null  int32         \n",
      "dtypes: Int64(1), datetime64[ns](2), int32(1), int64(4), object(3)\n",
      "memory usage: 996.2+ KB\n"
     ]
    }
   ],
   "source": [
    "users_df.info()"
   ]
  },
  {
   "cell_type": "markdown",
   "id": "2e9979fa",
   "metadata": {},
   "source": [
    "We'll add the number of invites from an individual user as well."
   ]
  },
  {
   "cell_type": "code",
   "execution_count": 25,
   "id": "a2c064b3",
   "metadata": {},
   "outputs": [],
   "source": [
    "invites_df = users_df.groupby('invited_by_user_id')['object_id'].count()"
   ]
  },
  {
   "cell_type": "code",
   "execution_count": 26,
   "id": "5d9e5fbe",
   "metadata": {},
   "outputs": [
    {
     "data": {
      "text/plain": [
       "invited_by_user_id\n",
       "3     1\n",
       "7     5\n",
       "10    1\n",
       "21    1\n",
       "23    3\n",
       "Name: object_id, dtype: int64"
      ]
     },
     "execution_count": 26,
     "metadata": {},
     "output_type": "execute_result"
    }
   ],
   "source": [
    "invites_df.head()"
   ]
  },
  {
   "cell_type": "code",
   "execution_count": 27,
   "id": "cce8dcf0",
   "metadata": {},
   "outputs": [],
   "source": [
    "users_df = users_df.merge(invites_df, how='left', left_on='object_id', right_index=True)"
   ]
  },
  {
   "cell_type": "code",
   "execution_count": 28,
   "id": "abb3def2",
   "metadata": {},
   "outputs": [],
   "source": [
    "users_df.rename({'object_id_x':'object_id', 'object_id_y': 'invite_count'},axis=1, inplace=True)"
   ]
  },
  {
   "cell_type": "code",
   "execution_count": 29,
   "id": "bb753bc2",
   "metadata": {},
   "outputs": [
    {
     "name": "stdout",
     "output_type": "stream",
     "text": [
      "<class 'pandas.core.frame.DataFrame'>\n",
      "RangeIndex: 12000 entries, 0 to 11999\n",
      "Data columns (total 12 columns):\n",
      " #   Column                      Non-Null Count  Dtype         \n",
      "---  ------                      --------------  -----         \n",
      " 0   object_id                   12000 non-null  object        \n",
      " 1   creation_time               12000 non-null  datetime64[ns]\n",
      " 2   name                        12000 non-null  object        \n",
      " 3   email                       12000 non-null  object        \n",
      " 4   creation_source             12000 non-null  object        \n",
      " 5   last_session_creation_time  8823 non-null   datetime64[ns]\n",
      " 6   opted_in_to_mailing_list    12000 non-null  int64         \n",
      " 7   enabled_for_marketing_drip  12000 non-null  int64         \n",
      " 8   org_id                      12000 non-null  int64         \n",
      " 9   invited_by_user_id          6417 non-null   Int64         \n",
      " 10  session_count               12000 non-null  int32         \n",
      " 11  invite_count                2564 non-null   object        \n",
      "dtypes: Int64(1), datetime64[ns](2), int32(1), int64(3), object(5)\n",
      "memory usage: 1.1+ MB\n"
     ]
    }
   ],
   "source": [
    "users_df.info()"
   ]
  },
  {
   "cell_type": "markdown",
   "id": "d3d53229",
   "metadata": {},
   "source": [
    "The `object_id` field became object type. We will change it back."
   ]
  },
  {
   "cell_type": "code",
   "execution_count": 30,
   "id": "472beba5",
   "metadata": {},
   "outputs": [],
   "source": [
    "users_df['object_id'] = users_df['object_id'].astype(int)"
   ]
  },
  {
   "cell_type": "markdown",
   "id": "cbf54d15",
   "metadata": {},
   "source": [
    "As earlier, it makes sense for all null `invite_count` entries to be zero."
   ]
  },
  {
   "cell_type": "code",
   "execution_count": 31,
   "id": "1e6d101c",
   "metadata": {},
   "outputs": [],
   "source": [
    "users_df.fillna(value={'invite_count': 0}, inplace=True)"
   ]
  },
  {
   "cell_type": "code",
   "execution_count": 32,
   "id": "35aa3c27",
   "metadata": {},
   "outputs": [
    {
     "name": "stdout",
     "output_type": "stream",
     "text": [
      "<class 'pandas.core.frame.DataFrame'>\n",
      "RangeIndex: 12000 entries, 0 to 11999\n",
      "Data columns (total 12 columns):\n",
      " #   Column                      Non-Null Count  Dtype         \n",
      "---  ------                      --------------  -----         \n",
      " 0   object_id                   12000 non-null  int32         \n",
      " 1   creation_time               12000 non-null  datetime64[ns]\n",
      " 2   name                        12000 non-null  object        \n",
      " 3   email                       12000 non-null  object        \n",
      " 4   creation_source             12000 non-null  object        \n",
      " 5   last_session_creation_time  8823 non-null   datetime64[ns]\n",
      " 6   opted_in_to_mailing_list    12000 non-null  int64         \n",
      " 7   enabled_for_marketing_drip  12000 non-null  int64         \n",
      " 8   org_id                      12000 non-null  int64         \n",
      " 9   invited_by_user_id          6417 non-null   Int64         \n",
      " 10  session_count               12000 non-null  int32         \n",
      " 11  invite_count                12000 non-null  int64         \n",
      "dtypes: Int64(1), datetime64[ns](2), int32(2), int64(4), object(3)\n",
      "memory usage: 1.0+ MB\n"
     ]
    }
   ],
   "source": [
    "users_df.info()"
   ]
  },
  {
   "cell_type": "markdown",
   "id": "630a4cc4",
   "metadata": {},
   "source": [
    "Rather than track who a user was invited by, we can track simply whether they were invited or not."
   ]
  },
  {
   "cell_type": "code",
   "execution_count": 33,
   "id": "b1fcb4fe",
   "metadata": {},
   "outputs": [],
   "source": [
    "users_df['was_invited'] = users_df['invited_by_user_id'].notna().astype(int)"
   ]
  },
  {
   "cell_type": "code",
   "execution_count": 34,
   "id": "bde56393",
   "metadata": {},
   "outputs": [
    {
     "data": {
      "text/html": [
       "<div>\n",
       "<style scoped>\n",
       "    .dataframe tbody tr th:only-of-type {\n",
       "        vertical-align: middle;\n",
       "    }\n",
       "\n",
       "    .dataframe tbody tr th {\n",
       "        vertical-align: top;\n",
       "    }\n",
       "\n",
       "    .dataframe thead th {\n",
       "        text-align: right;\n",
       "    }\n",
       "</style>\n",
       "<table border=\"1\" class=\"dataframe\">\n",
       "  <thead>\n",
       "    <tr style=\"text-align: right;\">\n",
       "      <th></th>\n",
       "      <th>object_id</th>\n",
       "      <th>creation_time</th>\n",
       "      <th>name</th>\n",
       "      <th>email</th>\n",
       "      <th>creation_source</th>\n",
       "      <th>last_session_creation_time</th>\n",
       "      <th>opted_in_to_mailing_list</th>\n",
       "      <th>enabled_for_marketing_drip</th>\n",
       "      <th>org_id</th>\n",
       "      <th>invited_by_user_id</th>\n",
       "      <th>session_count</th>\n",
       "      <th>invite_count</th>\n",
       "      <th>was_invited</th>\n",
       "    </tr>\n",
       "  </thead>\n",
       "  <tbody>\n",
       "    <tr>\n",
       "      <th>0</th>\n",
       "      <td>1</td>\n",
       "      <td>2014-04-22 03:53:30</td>\n",
       "      <td>Clausen August</td>\n",
       "      <td>AugustCClausen@yahoo.com</td>\n",
       "      <td>GUEST_INVITE</td>\n",
       "      <td>2014-04-22 03:53:30</td>\n",
       "      <td>1</td>\n",
       "      <td>0</td>\n",
       "      <td>11</td>\n",
       "      <td>10803</td>\n",
       "      <td>1</td>\n",
       "      <td>0</td>\n",
       "      <td>1</td>\n",
       "    </tr>\n",
       "    <tr>\n",
       "      <th>1</th>\n",
       "      <td>2</td>\n",
       "      <td>2013-11-15 03:45:04</td>\n",
       "      <td>Poole Matthew</td>\n",
       "      <td>MatthewPoole@gustr.com</td>\n",
       "      <td>ORG_INVITE</td>\n",
       "      <td>2014-03-31 03:45:04</td>\n",
       "      <td>0</td>\n",
       "      <td>0</td>\n",
       "      <td>1</td>\n",
       "      <td>316</td>\n",
       "      <td>14</td>\n",
       "      <td>0</td>\n",
       "      <td>1</td>\n",
       "    </tr>\n",
       "    <tr>\n",
       "      <th>2</th>\n",
       "      <td>3</td>\n",
       "      <td>2013-03-19 23:14:52</td>\n",
       "      <td>Bottrill Mitchell</td>\n",
       "      <td>MitchellBottrill@gustr.com</td>\n",
       "      <td>ORG_INVITE</td>\n",
       "      <td>2013-03-19 23:14:52</td>\n",
       "      <td>0</td>\n",
       "      <td>0</td>\n",
       "      <td>94</td>\n",
       "      <td>1525</td>\n",
       "      <td>1</td>\n",
       "      <td>1</td>\n",
       "      <td>1</td>\n",
       "    </tr>\n",
       "    <tr>\n",
       "      <th>3</th>\n",
       "      <td>4</td>\n",
       "      <td>2013-05-21 08:09:28</td>\n",
       "      <td>Clausen Nicklas</td>\n",
       "      <td>NicklasSClausen@yahoo.com</td>\n",
       "      <td>GUEST_INVITE</td>\n",
       "      <td>2013-05-22 08:09:28</td>\n",
       "      <td>0</td>\n",
       "      <td>0</td>\n",
       "      <td>1</td>\n",
       "      <td>5151</td>\n",
       "      <td>1</td>\n",
       "      <td>0</td>\n",
       "      <td>1</td>\n",
       "    </tr>\n",
       "    <tr>\n",
       "      <th>4</th>\n",
       "      <td>5</td>\n",
       "      <td>2013-01-17 10:14:20</td>\n",
       "      <td>Raw Grace</td>\n",
       "      <td>GraceRaw@yahoo.com</td>\n",
       "      <td>GUEST_INVITE</td>\n",
       "      <td>2013-01-22 10:14:20</td>\n",
       "      <td>0</td>\n",
       "      <td>0</td>\n",
       "      <td>193</td>\n",
       "      <td>5240</td>\n",
       "      <td>1</td>\n",
       "      <td>0</td>\n",
       "      <td>1</td>\n",
       "    </tr>\n",
       "  </tbody>\n",
       "</table>\n",
       "</div>"
      ],
      "text/plain": [
       "   object_id       creation_time               name  \\\n",
       "0          1 2014-04-22 03:53:30     Clausen August   \n",
       "1          2 2013-11-15 03:45:04      Poole Matthew   \n",
       "2          3 2013-03-19 23:14:52  Bottrill Mitchell   \n",
       "3          4 2013-05-21 08:09:28    Clausen Nicklas   \n",
       "4          5 2013-01-17 10:14:20          Raw Grace   \n",
       "\n",
       "                        email creation_source last_session_creation_time  \\\n",
       "0    AugustCClausen@yahoo.com    GUEST_INVITE        2014-04-22 03:53:30   \n",
       "1      MatthewPoole@gustr.com      ORG_INVITE        2014-03-31 03:45:04   \n",
       "2  MitchellBottrill@gustr.com      ORG_INVITE        2013-03-19 23:14:52   \n",
       "3   NicklasSClausen@yahoo.com    GUEST_INVITE        2013-05-22 08:09:28   \n",
       "4          GraceRaw@yahoo.com    GUEST_INVITE        2013-01-22 10:14:20   \n",
       "\n",
       "   opted_in_to_mailing_list  enabled_for_marketing_drip  org_id  \\\n",
       "0                         1                           0      11   \n",
       "1                         0                           0       1   \n",
       "2                         0                           0      94   \n",
       "3                         0                           0       1   \n",
       "4                         0                           0     193   \n",
       "\n",
       "   invited_by_user_id  session_count  invite_count  was_invited  \n",
       "0               10803              1             0            1  \n",
       "1                 316             14             0            1  \n",
       "2                1525              1             1            1  \n",
       "3                5151              1             0            1  \n",
       "4                5240              1             0            1  "
      ]
     },
     "execution_count": 34,
     "metadata": {},
     "output_type": "execute_result"
    }
   ],
   "source": [
    "users_df.head()"
   ]
  },
  {
   "cell_type": "code",
   "execution_count": 35,
   "id": "b44a6ea4",
   "metadata": {},
   "outputs": [
    {
     "data": {
      "text/plain": [
       "1    6417\n",
       "0    5583\n",
       "Name: was_invited, dtype: int64"
      ]
     },
     "execution_count": 35,
     "metadata": {},
     "output_type": "execute_result"
    }
   ],
   "source": [
    "users_df.was_invited.value_counts()"
   ]
  },
  {
   "cell_type": "markdown",
   "id": "353fff03",
   "metadata": {},
   "source": [
    "The field `org_id` is meaningless by itself, but we can track the number of users in each org grouping."
   ]
  },
  {
   "cell_type": "code",
   "execution_count": 36,
   "id": "d3259783",
   "metadata": {},
   "outputs": [],
   "source": [
    "orgs_df = users_df[['object_id', 'org_id']].groupby('org_id').count()\n",
    "orgs_df.rename({'object_id': 'org_count'}, axis=1, inplace=True)"
   ]
  },
  {
   "cell_type": "code",
   "execution_count": 37,
   "id": "a220a7a5",
   "metadata": {},
   "outputs": [
    {
     "data": {
      "text/html": [
       "<div>\n",
       "<style scoped>\n",
       "    .dataframe tbody tr th:only-of-type {\n",
       "        vertical-align: middle;\n",
       "    }\n",
       "\n",
       "    .dataframe tbody tr th {\n",
       "        vertical-align: top;\n",
       "    }\n",
       "\n",
       "    .dataframe thead th {\n",
       "        text-align: right;\n",
       "    }\n",
       "</style>\n",
       "<table border=\"1\" class=\"dataframe\">\n",
       "  <thead>\n",
       "    <tr style=\"text-align: right;\">\n",
       "      <th></th>\n",
       "      <th>org_count</th>\n",
       "    </tr>\n",
       "    <tr>\n",
       "      <th>org_id</th>\n",
       "      <th></th>\n",
       "    </tr>\n",
       "  </thead>\n",
       "  <tbody>\n",
       "    <tr>\n",
       "      <th>0</th>\n",
       "      <td>319</td>\n",
       "    </tr>\n",
       "    <tr>\n",
       "      <th>1</th>\n",
       "      <td>233</td>\n",
       "    </tr>\n",
       "    <tr>\n",
       "      <th>2</th>\n",
       "      <td>201</td>\n",
       "    </tr>\n",
       "    <tr>\n",
       "      <th>3</th>\n",
       "      <td>168</td>\n",
       "    </tr>\n",
       "    <tr>\n",
       "      <th>4</th>\n",
       "      <td>159</td>\n",
       "    </tr>\n",
       "  </tbody>\n",
       "</table>\n",
       "</div>"
      ],
      "text/plain": [
       "        org_count\n",
       "org_id           \n",
       "0             319\n",
       "1             233\n",
       "2             201\n",
       "3             168\n",
       "4             159"
      ]
     },
     "execution_count": 37,
     "metadata": {},
     "output_type": "execute_result"
    }
   ],
   "source": [
    "orgs_df.head()"
   ]
  },
  {
   "cell_type": "code",
   "execution_count": 38,
   "id": "158b5b63",
   "metadata": {},
   "outputs": [],
   "source": [
    "users_df = users_df.merge(orgs_df, how='left', left_on='org_id', right_index=True)"
   ]
  },
  {
   "cell_type": "code",
   "execution_count": 39,
   "id": "81a625c1",
   "metadata": {},
   "outputs": [
    {
     "data": {
      "text/html": [
       "<div>\n",
       "<style scoped>\n",
       "    .dataframe tbody tr th:only-of-type {\n",
       "        vertical-align: middle;\n",
       "    }\n",
       "\n",
       "    .dataframe tbody tr th {\n",
       "        vertical-align: top;\n",
       "    }\n",
       "\n",
       "    .dataframe thead th {\n",
       "        text-align: right;\n",
       "    }\n",
       "</style>\n",
       "<table border=\"1\" class=\"dataframe\">\n",
       "  <thead>\n",
       "    <tr style=\"text-align: right;\">\n",
       "      <th></th>\n",
       "      <th>object_id</th>\n",
       "      <th>creation_time</th>\n",
       "      <th>name</th>\n",
       "      <th>email</th>\n",
       "      <th>creation_source</th>\n",
       "      <th>last_session_creation_time</th>\n",
       "      <th>opted_in_to_mailing_list</th>\n",
       "      <th>enabled_for_marketing_drip</th>\n",
       "      <th>org_id</th>\n",
       "      <th>invited_by_user_id</th>\n",
       "      <th>session_count</th>\n",
       "      <th>invite_count</th>\n",
       "      <th>was_invited</th>\n",
       "      <th>org_count</th>\n",
       "    </tr>\n",
       "  </thead>\n",
       "  <tbody>\n",
       "    <tr>\n",
       "      <th>0</th>\n",
       "      <td>1</td>\n",
       "      <td>2014-04-22 03:53:30</td>\n",
       "      <td>Clausen August</td>\n",
       "      <td>AugustCClausen@yahoo.com</td>\n",
       "      <td>GUEST_INVITE</td>\n",
       "      <td>2014-04-22 03:53:30</td>\n",
       "      <td>1</td>\n",
       "      <td>0</td>\n",
       "      <td>11</td>\n",
       "      <td>10803</td>\n",
       "      <td>1</td>\n",
       "      <td>0</td>\n",
       "      <td>1</td>\n",
       "      <td>75</td>\n",
       "    </tr>\n",
       "    <tr>\n",
       "      <th>1</th>\n",
       "      <td>2</td>\n",
       "      <td>2013-11-15 03:45:04</td>\n",
       "      <td>Poole Matthew</td>\n",
       "      <td>MatthewPoole@gustr.com</td>\n",
       "      <td>ORG_INVITE</td>\n",
       "      <td>2014-03-31 03:45:04</td>\n",
       "      <td>0</td>\n",
       "      <td>0</td>\n",
       "      <td>1</td>\n",
       "      <td>316</td>\n",
       "      <td>14</td>\n",
       "      <td>0</td>\n",
       "      <td>1</td>\n",
       "      <td>233</td>\n",
       "    </tr>\n",
       "    <tr>\n",
       "      <th>2</th>\n",
       "      <td>3</td>\n",
       "      <td>2013-03-19 23:14:52</td>\n",
       "      <td>Bottrill Mitchell</td>\n",
       "      <td>MitchellBottrill@gustr.com</td>\n",
       "      <td>ORG_INVITE</td>\n",
       "      <td>2013-03-19 23:14:52</td>\n",
       "      <td>0</td>\n",
       "      <td>0</td>\n",
       "      <td>94</td>\n",
       "      <td>1525</td>\n",
       "      <td>1</td>\n",
       "      <td>1</td>\n",
       "      <td>1</td>\n",
       "      <td>32</td>\n",
       "    </tr>\n",
       "    <tr>\n",
       "      <th>3</th>\n",
       "      <td>4</td>\n",
       "      <td>2013-05-21 08:09:28</td>\n",
       "      <td>Clausen Nicklas</td>\n",
       "      <td>NicklasSClausen@yahoo.com</td>\n",
       "      <td>GUEST_INVITE</td>\n",
       "      <td>2013-05-22 08:09:28</td>\n",
       "      <td>0</td>\n",
       "      <td>0</td>\n",
       "      <td>1</td>\n",
       "      <td>5151</td>\n",
       "      <td>1</td>\n",
       "      <td>0</td>\n",
       "      <td>1</td>\n",
       "      <td>233</td>\n",
       "    </tr>\n",
       "    <tr>\n",
       "      <th>4</th>\n",
       "      <td>5</td>\n",
       "      <td>2013-01-17 10:14:20</td>\n",
       "      <td>Raw Grace</td>\n",
       "      <td>GraceRaw@yahoo.com</td>\n",
       "      <td>GUEST_INVITE</td>\n",
       "      <td>2013-01-22 10:14:20</td>\n",
       "      <td>0</td>\n",
       "      <td>0</td>\n",
       "      <td>193</td>\n",
       "      <td>5240</td>\n",
       "      <td>1</td>\n",
       "      <td>0</td>\n",
       "      <td>1</td>\n",
       "      <td>16</td>\n",
       "    </tr>\n",
       "  </tbody>\n",
       "</table>\n",
       "</div>"
      ],
      "text/plain": [
       "   object_id       creation_time               name  \\\n",
       "0          1 2014-04-22 03:53:30     Clausen August   \n",
       "1          2 2013-11-15 03:45:04      Poole Matthew   \n",
       "2          3 2013-03-19 23:14:52  Bottrill Mitchell   \n",
       "3          4 2013-05-21 08:09:28    Clausen Nicklas   \n",
       "4          5 2013-01-17 10:14:20          Raw Grace   \n",
       "\n",
       "                        email creation_source last_session_creation_time  \\\n",
       "0    AugustCClausen@yahoo.com    GUEST_INVITE        2014-04-22 03:53:30   \n",
       "1      MatthewPoole@gustr.com      ORG_INVITE        2014-03-31 03:45:04   \n",
       "2  MitchellBottrill@gustr.com      ORG_INVITE        2013-03-19 23:14:52   \n",
       "3   NicklasSClausen@yahoo.com    GUEST_INVITE        2013-05-22 08:09:28   \n",
       "4          GraceRaw@yahoo.com    GUEST_INVITE        2013-01-22 10:14:20   \n",
       "\n",
       "   opted_in_to_mailing_list  enabled_for_marketing_drip  org_id  \\\n",
       "0                         1                           0      11   \n",
       "1                         0                           0       1   \n",
       "2                         0                           0      94   \n",
       "3                         0                           0       1   \n",
       "4                         0                           0     193   \n",
       "\n",
       "   invited_by_user_id  session_count  invite_count  was_invited  org_count  \n",
       "0               10803              1             0            1         75  \n",
       "1                 316             14             0            1        233  \n",
       "2                1525              1             1            1         32  \n",
       "3                5151              1             0            1        233  \n",
       "4                5240              1             0            1         16  "
      ]
     },
     "execution_count": 39,
     "metadata": {},
     "output_type": "execute_result"
    }
   ],
   "source": [
    "users_df.head()"
   ]
  },
  {
   "cell_type": "code",
   "execution_count": 40,
   "id": "f52473a8",
   "metadata": {},
   "outputs": [
    {
     "name": "stdout",
     "output_type": "stream",
     "text": [
      "<class 'pandas.core.frame.DataFrame'>\n",
      "RangeIndex: 12000 entries, 0 to 11999\n",
      "Data columns (total 14 columns):\n",
      " #   Column                      Non-Null Count  Dtype         \n",
      "---  ------                      --------------  -----         \n",
      " 0   object_id                   12000 non-null  int32         \n",
      " 1   creation_time               12000 non-null  datetime64[ns]\n",
      " 2   name                        12000 non-null  object        \n",
      " 3   email                       12000 non-null  object        \n",
      " 4   creation_source             12000 non-null  object        \n",
      " 5   last_session_creation_time  8823 non-null   datetime64[ns]\n",
      " 6   opted_in_to_mailing_list    12000 non-null  int64         \n",
      " 7   enabled_for_marketing_drip  12000 non-null  int64         \n",
      " 8   org_id                      12000 non-null  int64         \n",
      " 9   invited_by_user_id          6417 non-null   Int64         \n",
      " 10  session_count               12000 non-null  int32         \n",
      " 11  invite_count                12000 non-null  int64         \n",
      " 12  was_invited                 12000 non-null  int32         \n",
      " 13  org_count                   12000 non-null  int64         \n",
      "dtypes: Int64(1), datetime64[ns](2), int32(3), int64(5), object(3)\n",
      "memory usage: 1.2+ MB\n"
     ]
    }
   ],
   "source": [
    "users_df.info()"
   ]
  },
  {
   "cell_type": "markdown",
   "id": "813859ec",
   "metadata": {},
   "source": [
    "The specific time that an account was created is unlikely to tell us anything. However, we can determine how early/late the account was created relative to others."
   ]
  },
  {
   "cell_type": "code",
   "execution_count": 41,
   "id": "bd6f12bf",
   "metadata": {},
   "outputs": [
    {
     "name": "stdout",
     "output_type": "stream",
     "text": [
      "2012-05-31 00:43:27\n"
     ]
    }
   ],
   "source": [
    "min_creation_time = users_df.creation_time.min()\n",
    "print(min_creation_time)"
   ]
  },
  {
   "cell_type": "code",
   "execution_count": 42,
   "id": "c1caff8a",
   "metadata": {},
   "outputs": [],
   "source": [
    "users_df['creation_days_since_start'] = users_df['creation_time'] - min_creation_time"
   ]
  },
  {
   "cell_type": "code",
   "execution_count": 43,
   "id": "40326a9b",
   "metadata": {},
   "outputs": [],
   "source": [
    "users_df['creation_days_since_start'] = users_df['creation_days_since_start'].apply(lambda x: x.days)"
   ]
  },
  {
   "cell_type": "code",
   "execution_count": 44,
   "id": "1785dc4a",
   "metadata": {},
   "outputs": [
    {
     "data": {
      "text/html": [
       "<div>\n",
       "<style scoped>\n",
       "    .dataframe tbody tr th:only-of-type {\n",
       "        vertical-align: middle;\n",
       "    }\n",
       "\n",
       "    .dataframe tbody tr th {\n",
       "        vertical-align: top;\n",
       "    }\n",
       "\n",
       "    .dataframe thead th {\n",
       "        text-align: right;\n",
       "    }\n",
       "</style>\n",
       "<table border=\"1\" class=\"dataframe\">\n",
       "  <thead>\n",
       "    <tr style=\"text-align: right;\">\n",
       "      <th></th>\n",
       "      <th>object_id</th>\n",
       "      <th>creation_time</th>\n",
       "      <th>name</th>\n",
       "      <th>email</th>\n",
       "      <th>creation_source</th>\n",
       "      <th>last_session_creation_time</th>\n",
       "      <th>opted_in_to_mailing_list</th>\n",
       "      <th>enabled_for_marketing_drip</th>\n",
       "      <th>org_id</th>\n",
       "      <th>invited_by_user_id</th>\n",
       "      <th>session_count</th>\n",
       "      <th>invite_count</th>\n",
       "      <th>was_invited</th>\n",
       "      <th>org_count</th>\n",
       "      <th>creation_days_since_start</th>\n",
       "    </tr>\n",
       "  </thead>\n",
       "  <tbody>\n",
       "    <tr>\n",
       "      <th>0</th>\n",
       "      <td>1</td>\n",
       "      <td>2014-04-22 03:53:30</td>\n",
       "      <td>Clausen August</td>\n",
       "      <td>AugustCClausen@yahoo.com</td>\n",
       "      <td>GUEST_INVITE</td>\n",
       "      <td>2014-04-22 03:53:30</td>\n",
       "      <td>1</td>\n",
       "      <td>0</td>\n",
       "      <td>11</td>\n",
       "      <td>10803</td>\n",
       "      <td>1</td>\n",
       "      <td>0</td>\n",
       "      <td>1</td>\n",
       "      <td>75</td>\n",
       "      <td>691</td>\n",
       "    </tr>\n",
       "    <tr>\n",
       "      <th>1</th>\n",
       "      <td>2</td>\n",
       "      <td>2013-11-15 03:45:04</td>\n",
       "      <td>Poole Matthew</td>\n",
       "      <td>MatthewPoole@gustr.com</td>\n",
       "      <td>ORG_INVITE</td>\n",
       "      <td>2014-03-31 03:45:04</td>\n",
       "      <td>0</td>\n",
       "      <td>0</td>\n",
       "      <td>1</td>\n",
       "      <td>316</td>\n",
       "      <td>14</td>\n",
       "      <td>0</td>\n",
       "      <td>1</td>\n",
       "      <td>233</td>\n",
       "      <td>533</td>\n",
       "    </tr>\n",
       "    <tr>\n",
       "      <th>2</th>\n",
       "      <td>3</td>\n",
       "      <td>2013-03-19 23:14:52</td>\n",
       "      <td>Bottrill Mitchell</td>\n",
       "      <td>MitchellBottrill@gustr.com</td>\n",
       "      <td>ORG_INVITE</td>\n",
       "      <td>2013-03-19 23:14:52</td>\n",
       "      <td>0</td>\n",
       "      <td>0</td>\n",
       "      <td>94</td>\n",
       "      <td>1525</td>\n",
       "      <td>1</td>\n",
       "      <td>1</td>\n",
       "      <td>1</td>\n",
       "      <td>32</td>\n",
       "      <td>292</td>\n",
       "    </tr>\n",
       "    <tr>\n",
       "      <th>3</th>\n",
       "      <td>4</td>\n",
       "      <td>2013-05-21 08:09:28</td>\n",
       "      <td>Clausen Nicklas</td>\n",
       "      <td>NicklasSClausen@yahoo.com</td>\n",
       "      <td>GUEST_INVITE</td>\n",
       "      <td>2013-05-22 08:09:28</td>\n",
       "      <td>0</td>\n",
       "      <td>0</td>\n",
       "      <td>1</td>\n",
       "      <td>5151</td>\n",
       "      <td>1</td>\n",
       "      <td>0</td>\n",
       "      <td>1</td>\n",
       "      <td>233</td>\n",
       "      <td>355</td>\n",
       "    </tr>\n",
       "    <tr>\n",
       "      <th>4</th>\n",
       "      <td>5</td>\n",
       "      <td>2013-01-17 10:14:20</td>\n",
       "      <td>Raw Grace</td>\n",
       "      <td>GraceRaw@yahoo.com</td>\n",
       "      <td>GUEST_INVITE</td>\n",
       "      <td>2013-01-22 10:14:20</td>\n",
       "      <td>0</td>\n",
       "      <td>0</td>\n",
       "      <td>193</td>\n",
       "      <td>5240</td>\n",
       "      <td>1</td>\n",
       "      <td>0</td>\n",
       "      <td>1</td>\n",
       "      <td>16</td>\n",
       "      <td>231</td>\n",
       "    </tr>\n",
       "  </tbody>\n",
       "</table>\n",
       "</div>"
      ],
      "text/plain": [
       "   object_id       creation_time               name  \\\n",
       "0          1 2014-04-22 03:53:30     Clausen August   \n",
       "1          2 2013-11-15 03:45:04      Poole Matthew   \n",
       "2          3 2013-03-19 23:14:52  Bottrill Mitchell   \n",
       "3          4 2013-05-21 08:09:28    Clausen Nicklas   \n",
       "4          5 2013-01-17 10:14:20          Raw Grace   \n",
       "\n",
       "                        email creation_source last_session_creation_time  \\\n",
       "0    AugustCClausen@yahoo.com    GUEST_INVITE        2014-04-22 03:53:30   \n",
       "1      MatthewPoole@gustr.com      ORG_INVITE        2014-03-31 03:45:04   \n",
       "2  MitchellBottrill@gustr.com      ORG_INVITE        2013-03-19 23:14:52   \n",
       "3   NicklasSClausen@yahoo.com    GUEST_INVITE        2013-05-22 08:09:28   \n",
       "4          GraceRaw@yahoo.com    GUEST_INVITE        2013-01-22 10:14:20   \n",
       "\n",
       "   opted_in_to_mailing_list  enabled_for_marketing_drip  org_id  \\\n",
       "0                         1                           0      11   \n",
       "1                         0                           0       1   \n",
       "2                         0                           0      94   \n",
       "3                         0                           0       1   \n",
       "4                         0                           0     193   \n",
       "\n",
       "   invited_by_user_id  session_count  invite_count  was_invited  org_count  \\\n",
       "0               10803              1             0            1         75   \n",
       "1                 316             14             0            1        233   \n",
       "2                1525              1             1            1         32   \n",
       "3                5151              1             0            1        233   \n",
       "4                5240              1             0            1         16   \n",
       "\n",
       "   creation_days_since_start  \n",
       "0                        691  \n",
       "1                        533  \n",
       "2                        292  \n",
       "3                        355  \n",
       "4                        231  "
      ]
     },
     "execution_count": 44,
     "metadata": {},
     "output_type": "execute_result"
    }
   ],
   "source": [
    "users_df.head()"
   ]
  },
  {
   "cell_type": "markdown",
   "id": "42bfeee9",
   "metadata": {},
   "source": [
    "Most importantly, we need to determine whether or not users are adopted users. An adopted user is considered to be a user who has logged into the product on three separate days in at least one seven-day period. Since we're only given a single login timestamp for each session, we can't consider total session length."
   ]
  },
  {
   "cell_type": "code",
   "execution_count": 45,
   "id": "05816bed",
   "metadata": {},
   "outputs": [
    {
     "data": {
      "text/plain": [
       "count    12000.000000\n",
       "mean        17.326417\n",
       "std         64.287839\n",
       "min          0.000000\n",
       "25%          0.000000\n",
       "50%          1.000000\n",
       "75%          1.000000\n",
       "max        606.000000\n",
       "Name: session_count, dtype: float64"
      ]
     },
     "execution_count": 45,
     "metadata": {},
     "output_type": "execute_result"
    }
   ],
   "source": [
    "users_df.session_count.describe()"
   ]
  },
  {
   "cell_type": "code",
   "execution_count": 46,
   "id": "5d89cf76",
   "metadata": {},
   "outputs": [],
   "source": [
    "# At least three separate days are required over a single seven day period. \n",
    "REQUIRED_COUNT = 3\n",
    "REQUIRED_LENGTH = 7\n",
    "\n",
    "def is_adopted_user(timestamps):\n",
    "    '''\n",
    "    Given a series of timestamps corresponding to a user's session logins, determines whether that user is an adopted user.\n",
    "    '''\n",
    "    # If there aren't even three sessions, there can't be three different days. \n",
    "    if len(timestamps) < REQUIRED_COUNT:\n",
    "        return False\n",
    "    \n",
    "    # Convert the timestamps to a list of dates.\n",
    "    # Although we are allowed to assume no two rows for a single user duplicate dates, we can easily eliminate duplicates\n",
    "    #   by assigning to a set and then back to a list.\n",
    "    dates = [t.date() for t in timestamps]\n",
    "    # Sort the dates to make counting work easier.\n",
    "    dates.sort()\n",
    "    \n",
    "    # Iterate over 3 session groups.\n",
    "    # We compare the first session (index 0) with the third session (index 2) to determine if there are fewer than seven\n",
    "    #   days passing between the sessions. If the time difference is seven days or more, the sessions weren't in the same\n",
    "    #   seven day period. For example, if sessions are on January 1st, 4th, and 8th, then the time difference will be\n",
    "    #   seven days, but the sessions were in an 8 day period.\n",
    "    jmp = REQUIRED_COUNT - 1\n",
    "    n = len(dates) - jmp\n",
    "    for i in range(n):\n",
    "        first_session = dates[i]\n",
    "        last_session = dates[i + jmp]\n",
    "        time_diff = last_session - first_session\n",
    "        \n",
    "        # time_diff is a dt.timedelta. Check the number of days in the period.\n",
    "        if time_diff.days < REQUIRED_LENGTH:\n",
    "            return True\n",
    "    \n",
    "    # Fall through. Iterating over the sessions found no acceptable adoption period. There were enough sessions to \n",
    "    #   potentially be an adopted user, but the sessions were too far apart.\n",
    "    return False"
   ]
  },
  {
   "cell_type": "code",
   "execution_count": 47,
   "id": "41b4a6d6",
   "metadata": {},
   "outputs": [],
   "source": [
    "# Broadcast a default value of False, then update users which are true.\n",
    "users_df['is_adopted'] = 0\n",
    "for user in engage_df.groupby('user_id'):\n",
    "    user_no = user[0]\n",
    "    timestamps = user[1].time_stamp\n",
    "    if is_adopted_user(timestamps):\n",
    "        users_df.loc[user_no, 'is_adopted'] = 1"
   ]
  },
  {
   "cell_type": "code",
   "execution_count": 48,
   "id": "9c71b1fd",
   "metadata": {},
   "outputs": [
    {
     "name": "stdout",
     "output_type": "stream",
     "text": [
      "<class 'pandas.core.frame.DataFrame'>\n",
      "RangeIndex: 12000 entries, 0 to 11999\n",
      "Data columns (total 16 columns):\n",
      " #   Column                      Non-Null Count  Dtype         \n",
      "---  ------                      --------------  -----         \n",
      " 0   object_id                   12000 non-null  int32         \n",
      " 1   creation_time               12000 non-null  datetime64[ns]\n",
      " 2   name                        12000 non-null  object        \n",
      " 3   email                       12000 non-null  object        \n",
      " 4   creation_source             12000 non-null  object        \n",
      " 5   last_session_creation_time  8823 non-null   datetime64[ns]\n",
      " 6   opted_in_to_mailing_list    12000 non-null  int64         \n",
      " 7   enabled_for_marketing_drip  12000 non-null  int64         \n",
      " 8   org_id                      12000 non-null  int64         \n",
      " 9   invited_by_user_id          6417 non-null   Int64         \n",
      " 10  session_count               12000 non-null  int32         \n",
      " 11  invite_count                12000 non-null  int64         \n",
      " 12  was_invited                 12000 non-null  int32         \n",
      " 13  org_count                   12000 non-null  int64         \n",
      " 14  creation_days_since_start   12000 non-null  int64         \n",
      " 15  is_adopted                  12000 non-null  int64         \n",
      "dtypes: Int64(1), datetime64[ns](2), int32(3), int64(7), object(3)\n",
      "memory usage: 1.3+ MB\n"
     ]
    }
   ],
   "source": [
    "users_df.info()"
   ]
  },
  {
   "cell_type": "code",
   "execution_count": 49,
   "id": "4243bafd",
   "metadata": {},
   "outputs": [
    {
     "data": {
      "text/plain": [
       "0    10398\n",
       "1     1602\n",
       "Name: is_adopted, dtype: int64"
      ]
     },
     "execution_count": 49,
     "metadata": {},
     "output_type": "execute_result"
    }
   ],
   "source": [
    "users_df.is_adopted.value_counts()"
   ]
  },
  {
   "cell_type": "code",
   "execution_count": 50,
   "id": "86dff75a",
   "metadata": {},
   "outputs": [
    {
     "name": "stdout",
     "output_type": "stream",
     "text": [
      "18.157%\n"
     ]
    }
   ],
   "source": [
    "print(f'{1602/8823:0.3%}')"
   ]
  },
  {
   "cell_type": "code",
   "execution_count": 51,
   "id": "f697cf6f",
   "metadata": {},
   "outputs": [
    {
     "name": "stdout",
     "output_type": "stream",
     "text": [
      "13.350%\n"
     ]
    }
   ],
   "source": [
    "print(f'{1602/12000:0.3%}')"
   ]
  },
  {
   "cell_type": "markdown",
   "id": "ff7c295a",
   "metadata": {},
   "source": [
    "Of the 8823 users who logged in at least once, only 1602 (18.157%, 13.350% of all users) became adopted."
   ]
  },
  {
   "cell_type": "markdown",
   "id": "67fbe3ee",
   "metadata": {},
   "source": [
    "Of the remaining fields, `object_id`, `name` and `email` will not play a role in the analysis. Additionally, `creation_time`, `org_id`, `last_session_creation_time` and `invited_by_user_id` are now largely covered by other fields."
   ]
  },
  {
   "cell_type": "code",
   "execution_count": 52,
   "id": "51715d72",
   "metadata": {},
   "outputs": [],
   "source": [
    "users_df.set_index('object_id',drop=True, inplace=True)"
   ]
  },
  {
   "cell_type": "code",
   "execution_count": 53,
   "id": "9de8e7b8",
   "metadata": {},
   "outputs": [],
   "source": [
    "users_df.drop(['name', 'email', 'creation_time', 'org_id', 'last_session_creation_time', 'invited_by_user_id'], \n",
    "              axis=1, inplace=True)"
   ]
  },
  {
   "cell_type": "code",
   "execution_count": 54,
   "id": "23fce7f4",
   "metadata": {},
   "outputs": [
    {
     "name": "stdout",
     "output_type": "stream",
     "text": [
      "<class 'pandas.core.frame.DataFrame'>\n",
      "Int64Index: 12000 entries, 1 to 12000\n",
      "Data columns (total 9 columns):\n",
      " #   Column                      Non-Null Count  Dtype \n",
      "---  ------                      --------------  ----- \n",
      " 0   creation_source             12000 non-null  object\n",
      " 1   opted_in_to_mailing_list    12000 non-null  int64 \n",
      " 2   enabled_for_marketing_drip  12000 non-null  int64 \n",
      " 3   session_count               12000 non-null  int32 \n",
      " 4   invite_count                12000 non-null  int64 \n",
      " 5   was_invited                 12000 non-null  int32 \n",
      " 6   org_count                   12000 non-null  int64 \n",
      " 7   creation_days_since_start   12000 non-null  int64 \n",
      " 8   is_adopted                  12000 non-null  int64 \n",
      "dtypes: int32(2), int64(6), object(1)\n",
      "memory usage: 843.8+ KB\n"
     ]
    }
   ],
   "source": [
    "users_df.info()"
   ]
  },
  {
   "cell_type": "code",
   "execution_count": 55,
   "id": "4c605c80",
   "metadata": {},
   "outputs": [],
   "source": [
    "users_df = pd.concat(\n",
    "        [users_df.drop('creation_source',axis=1), pd.get_dummies(users_df['creation_source'], prefix='source')],\n",
    "         axis=1)"
   ]
  },
  {
   "cell_type": "code",
   "execution_count": 56,
   "id": "8adcd2b0",
   "metadata": {},
   "outputs": [
    {
     "data": {
      "text/html": [
       "<div>\n",
       "<style scoped>\n",
       "    .dataframe tbody tr th:only-of-type {\n",
       "        vertical-align: middle;\n",
       "    }\n",
       "\n",
       "    .dataframe tbody tr th {\n",
       "        vertical-align: top;\n",
       "    }\n",
       "\n",
       "    .dataframe thead th {\n",
       "        text-align: right;\n",
       "    }\n",
       "</style>\n",
       "<table border=\"1\" class=\"dataframe\">\n",
       "  <thead>\n",
       "    <tr style=\"text-align: right;\">\n",
       "      <th></th>\n",
       "      <th>opted_in_to_mailing_list</th>\n",
       "      <th>enabled_for_marketing_drip</th>\n",
       "      <th>session_count</th>\n",
       "      <th>invite_count</th>\n",
       "      <th>was_invited</th>\n",
       "      <th>org_count</th>\n",
       "      <th>creation_days_since_start</th>\n",
       "      <th>is_adopted</th>\n",
       "      <th>source_GUEST_INVITE</th>\n",
       "      <th>source_ORG_INVITE</th>\n",
       "      <th>source_PERSONAL_PROJECTS</th>\n",
       "      <th>source_SIGNUP</th>\n",
       "      <th>source_SIGNUP_GOOGLE_AUTH</th>\n",
       "    </tr>\n",
       "    <tr>\n",
       "      <th>object_id</th>\n",
       "      <th></th>\n",
       "      <th></th>\n",
       "      <th></th>\n",
       "      <th></th>\n",
       "      <th></th>\n",
       "      <th></th>\n",
       "      <th></th>\n",
       "      <th></th>\n",
       "      <th></th>\n",
       "      <th></th>\n",
       "      <th></th>\n",
       "      <th></th>\n",
       "      <th></th>\n",
       "    </tr>\n",
       "  </thead>\n",
       "  <tbody>\n",
       "    <tr>\n",
       "      <th>1</th>\n",
       "      <td>1</td>\n",
       "      <td>0</td>\n",
       "      <td>1</td>\n",
       "      <td>0</td>\n",
       "      <td>1</td>\n",
       "      <td>75</td>\n",
       "      <td>691</td>\n",
       "      <td>0</td>\n",
       "      <td>1</td>\n",
       "      <td>0</td>\n",
       "      <td>0</td>\n",
       "      <td>0</td>\n",
       "      <td>0</td>\n",
       "    </tr>\n",
       "    <tr>\n",
       "      <th>2</th>\n",
       "      <td>0</td>\n",
       "      <td>0</td>\n",
       "      <td>14</td>\n",
       "      <td>0</td>\n",
       "      <td>1</td>\n",
       "      <td>233</td>\n",
       "      <td>533</td>\n",
       "      <td>0</td>\n",
       "      <td>0</td>\n",
       "      <td>1</td>\n",
       "      <td>0</td>\n",
       "      <td>0</td>\n",
       "      <td>0</td>\n",
       "    </tr>\n",
       "    <tr>\n",
       "      <th>3</th>\n",
       "      <td>0</td>\n",
       "      <td>0</td>\n",
       "      <td>1</td>\n",
       "      <td>1</td>\n",
       "      <td>1</td>\n",
       "      <td>32</td>\n",
       "      <td>292</td>\n",
       "      <td>1</td>\n",
       "      <td>0</td>\n",
       "      <td>1</td>\n",
       "      <td>0</td>\n",
       "      <td>0</td>\n",
       "      <td>0</td>\n",
       "    </tr>\n",
       "    <tr>\n",
       "      <th>4</th>\n",
       "      <td>0</td>\n",
       "      <td>0</td>\n",
       "      <td>1</td>\n",
       "      <td>0</td>\n",
       "      <td>1</td>\n",
       "      <td>233</td>\n",
       "      <td>355</td>\n",
       "      <td>0</td>\n",
       "      <td>1</td>\n",
       "      <td>0</td>\n",
       "      <td>0</td>\n",
       "      <td>0</td>\n",
       "      <td>0</td>\n",
       "    </tr>\n",
       "    <tr>\n",
       "      <th>5</th>\n",
       "      <td>0</td>\n",
       "      <td>0</td>\n",
       "      <td>1</td>\n",
       "      <td>0</td>\n",
       "      <td>1</td>\n",
       "      <td>16</td>\n",
       "      <td>231</td>\n",
       "      <td>0</td>\n",
       "      <td>1</td>\n",
       "      <td>0</td>\n",
       "      <td>0</td>\n",
       "      <td>0</td>\n",
       "      <td>0</td>\n",
       "    </tr>\n",
       "  </tbody>\n",
       "</table>\n",
       "</div>"
      ],
      "text/plain": [
       "           opted_in_to_mailing_list  enabled_for_marketing_drip  \\\n",
       "object_id                                                         \n",
       "1                                 1                           0   \n",
       "2                                 0                           0   \n",
       "3                                 0                           0   \n",
       "4                                 0                           0   \n",
       "5                                 0                           0   \n",
       "\n",
       "           session_count  invite_count  was_invited  org_count  \\\n",
       "object_id                                                        \n",
       "1                      1             0            1         75   \n",
       "2                     14             0            1        233   \n",
       "3                      1             1            1         32   \n",
       "4                      1             0            1        233   \n",
       "5                      1             0            1         16   \n",
       "\n",
       "           creation_days_since_start  is_adopted  source_GUEST_INVITE  \\\n",
       "object_id                                                               \n",
       "1                                691           0                    1   \n",
       "2                                533           0                    0   \n",
       "3                                292           1                    0   \n",
       "4                                355           0                    1   \n",
       "5                                231           0                    1   \n",
       "\n",
       "           source_ORG_INVITE  source_PERSONAL_PROJECTS  source_SIGNUP  \\\n",
       "object_id                                                               \n",
       "1                          0                         0              0   \n",
       "2                          1                         0              0   \n",
       "3                          1                         0              0   \n",
       "4                          0                         0              0   \n",
       "5                          0                         0              0   \n",
       "\n",
       "           source_SIGNUP_GOOGLE_AUTH  \n",
       "object_id                             \n",
       "1                                  0  \n",
       "2                                  0  \n",
       "3                                  0  \n",
       "4                                  0  \n",
       "5                                  0  "
      ]
     },
     "execution_count": 56,
     "metadata": {},
     "output_type": "execute_result"
    }
   ],
   "source": [
    "users_df.head()"
   ]
  },
  {
   "cell_type": "code",
   "execution_count": 57,
   "id": "06573518",
   "metadata": {},
   "outputs": [
    {
     "name": "stdout",
     "output_type": "stream",
     "text": [
      "<class 'pandas.core.frame.DataFrame'>\n",
      "Int64Index: 12000 entries, 1 to 12000\n",
      "Data columns (total 13 columns):\n",
      " #   Column                      Non-Null Count  Dtype\n",
      "---  ------                      --------------  -----\n",
      " 0   opted_in_to_mailing_list    12000 non-null  int64\n",
      " 1   enabled_for_marketing_drip  12000 non-null  int64\n",
      " 2   session_count               12000 non-null  int32\n",
      " 3   invite_count                12000 non-null  int64\n",
      " 4   was_invited                 12000 non-null  int32\n",
      " 5   org_count                   12000 non-null  int64\n",
      " 6   creation_days_since_start   12000 non-null  int64\n",
      " 7   is_adopted                  12000 non-null  int64\n",
      " 8   source_GUEST_INVITE         12000 non-null  uint8\n",
      " 9   source_ORG_INVITE           12000 non-null  uint8\n",
      " 10  source_PERSONAL_PROJECTS    12000 non-null  uint8\n",
      " 11  source_SIGNUP               12000 non-null  uint8\n",
      " 12  source_SIGNUP_GOOGLE_AUTH   12000 non-null  uint8\n",
      "dtypes: int32(2), int64(6), uint8(5)\n",
      "memory usage: 808.6 KB\n"
     ]
    }
   ],
   "source": [
    "users_df.info()"
   ]
  },
  {
   "cell_type": "markdown",
   "id": "5f997eb2",
   "metadata": {},
   "source": [
    "# EDA"
   ]
  },
  {
   "cell_type": "code",
   "execution_count": 58,
   "id": "a50831c0",
   "metadata": {},
   "outputs": [
    {
     "data": {
      "text/html": [
       "<div>\n",
       "<style scoped>\n",
       "    .dataframe tbody tr th:only-of-type {\n",
       "        vertical-align: middle;\n",
       "    }\n",
       "\n",
       "    .dataframe tbody tr th {\n",
       "        vertical-align: top;\n",
       "    }\n",
       "\n",
       "    .dataframe thead th {\n",
       "        text-align: right;\n",
       "    }\n",
       "</style>\n",
       "<table border=\"1\" class=\"dataframe\">\n",
       "  <thead>\n",
       "    <tr style=\"text-align: right;\">\n",
       "      <th></th>\n",
       "      <th>opted_in_to_mailing_list</th>\n",
       "      <th>enabled_for_marketing_drip</th>\n",
       "      <th>session_count</th>\n",
       "      <th>invite_count</th>\n",
       "      <th>was_invited</th>\n",
       "      <th>org_count</th>\n",
       "      <th>creation_days_since_start</th>\n",
       "      <th>is_adopted</th>\n",
       "      <th>source_GUEST_INVITE</th>\n",
       "      <th>source_ORG_INVITE</th>\n",
       "      <th>source_PERSONAL_PROJECTS</th>\n",
       "      <th>source_SIGNUP</th>\n",
       "      <th>source_SIGNUP_GOOGLE_AUTH</th>\n",
       "    </tr>\n",
       "  </thead>\n",
       "  <tbody>\n",
       "    <tr>\n",
       "      <th>count</th>\n",
       "      <td>12000.000000</td>\n",
       "      <td>12000.000000</td>\n",
       "      <td>12000.000000</td>\n",
       "      <td>12000.000000</td>\n",
       "      <td>12000.000000</td>\n",
       "      <td>12000.000000</td>\n",
       "      <td>12000.000000</td>\n",
       "      <td>12000.000000</td>\n",
       "      <td>12000.000000</td>\n",
       "      <td>12000.000000</td>\n",
       "      <td>12000.000000</td>\n",
       "      <td>12000.000000</td>\n",
       "      <td>12000.000000</td>\n",
       "    </tr>\n",
       "    <tr>\n",
       "      <th>mean</th>\n",
       "      <td>0.249500</td>\n",
       "      <td>0.149333</td>\n",
       "      <td>17.326417</td>\n",
       "      <td>0.534750</td>\n",
       "      <td>0.534750</td>\n",
       "      <td>55.108500</td>\n",
       "      <td>411.029083</td>\n",
       "      <td>0.133500</td>\n",
       "      <td>0.180250</td>\n",
       "      <td>0.354500</td>\n",
       "      <td>0.175917</td>\n",
       "      <td>0.173917</td>\n",
       "      <td>0.115417</td>\n",
       "    </tr>\n",
       "    <tr>\n",
       "      <th>std</th>\n",
       "      <td>0.432742</td>\n",
       "      <td>0.356432</td>\n",
       "      <td>64.287839</td>\n",
       "      <td>1.350473</td>\n",
       "      <td>0.498812</td>\n",
       "      <td>64.023959</td>\n",
       "      <td>216.641508</td>\n",
       "      <td>0.340128</td>\n",
       "      <td>0.384412</td>\n",
       "      <td>0.478381</td>\n",
       "      <td>0.380765</td>\n",
       "      <td>0.379054</td>\n",
       "      <td>0.319537</td>\n",
       "    </tr>\n",
       "    <tr>\n",
       "      <th>min</th>\n",
       "      <td>0.000000</td>\n",
       "      <td>0.000000</td>\n",
       "      <td>0.000000</td>\n",
       "      <td>0.000000</td>\n",
       "      <td>0.000000</td>\n",
       "      <td>2.000000</td>\n",
       "      <td>0.000000</td>\n",
       "      <td>0.000000</td>\n",
       "      <td>0.000000</td>\n",
       "      <td>0.000000</td>\n",
       "      <td>0.000000</td>\n",
       "      <td>0.000000</td>\n",
       "      <td>0.000000</td>\n",
       "    </tr>\n",
       "    <tr>\n",
       "      <th>25%</th>\n",
       "      <td>0.000000</td>\n",
       "      <td>0.000000</td>\n",
       "      <td>0.000000</td>\n",
       "      <td>0.000000</td>\n",
       "      <td>0.000000</td>\n",
       "      <td>21.000000</td>\n",
       "      <td>229.000000</td>\n",
       "      <td>0.000000</td>\n",
       "      <td>0.000000</td>\n",
       "      <td>0.000000</td>\n",
       "      <td>0.000000</td>\n",
       "      <td>0.000000</td>\n",
       "      <td>0.000000</td>\n",
       "    </tr>\n",
       "    <tr>\n",
       "      <th>50%</th>\n",
       "      <td>0.000000</td>\n",
       "      <td>0.000000</td>\n",
       "      <td>1.000000</td>\n",
       "      <td>0.000000</td>\n",
       "      <td>1.000000</td>\n",
       "      <td>29.000000</td>\n",
       "      <td>431.000000</td>\n",
       "      <td>0.000000</td>\n",
       "      <td>0.000000</td>\n",
       "      <td>0.000000</td>\n",
       "      <td>0.000000</td>\n",
       "      <td>0.000000</td>\n",
       "      <td>0.000000</td>\n",
       "    </tr>\n",
       "    <tr>\n",
       "      <th>75%</th>\n",
       "      <td>0.000000</td>\n",
       "      <td>0.000000</td>\n",
       "      <td>1.000000</td>\n",
       "      <td>0.000000</td>\n",
       "      <td>1.000000</td>\n",
       "      <td>55.000000</td>\n",
       "      <td>607.000000</td>\n",
       "      <td>0.000000</td>\n",
       "      <td>0.000000</td>\n",
       "      <td>1.000000</td>\n",
       "      <td>0.000000</td>\n",
       "      <td>0.000000</td>\n",
       "      <td>0.000000</td>\n",
       "    </tr>\n",
       "    <tr>\n",
       "      <th>max</th>\n",
       "      <td>1.000000</td>\n",
       "      <td>1.000000</td>\n",
       "      <td>606.000000</td>\n",
       "      <td>13.000000</td>\n",
       "      <td>1.000000</td>\n",
       "      <td>319.000000</td>\n",
       "      <td>729.000000</td>\n",
       "      <td>1.000000</td>\n",
       "      <td>1.000000</td>\n",
       "      <td>1.000000</td>\n",
       "      <td>1.000000</td>\n",
       "      <td>1.000000</td>\n",
       "      <td>1.000000</td>\n",
       "    </tr>\n",
       "  </tbody>\n",
       "</table>\n",
       "</div>"
      ],
      "text/plain": [
       "       opted_in_to_mailing_list  enabled_for_marketing_drip  session_count  \\\n",
       "count              12000.000000                12000.000000   12000.000000   \n",
       "mean                   0.249500                    0.149333      17.326417   \n",
       "std                    0.432742                    0.356432      64.287839   \n",
       "min                    0.000000                    0.000000       0.000000   \n",
       "25%                    0.000000                    0.000000       0.000000   \n",
       "50%                    0.000000                    0.000000       1.000000   \n",
       "75%                    0.000000                    0.000000       1.000000   \n",
       "max                    1.000000                    1.000000     606.000000   \n",
       "\n",
       "       invite_count   was_invited     org_count  creation_days_since_start  \\\n",
       "count  12000.000000  12000.000000  12000.000000               12000.000000   \n",
       "mean       0.534750      0.534750     55.108500                 411.029083   \n",
       "std        1.350473      0.498812     64.023959                 216.641508   \n",
       "min        0.000000      0.000000      2.000000                   0.000000   \n",
       "25%        0.000000      0.000000     21.000000                 229.000000   \n",
       "50%        0.000000      1.000000     29.000000                 431.000000   \n",
       "75%        0.000000      1.000000     55.000000                 607.000000   \n",
       "max       13.000000      1.000000    319.000000                 729.000000   \n",
       "\n",
       "         is_adopted  source_GUEST_INVITE  source_ORG_INVITE  \\\n",
       "count  12000.000000         12000.000000       12000.000000   \n",
       "mean       0.133500             0.180250           0.354500   \n",
       "std        0.340128             0.384412           0.478381   \n",
       "min        0.000000             0.000000           0.000000   \n",
       "25%        0.000000             0.000000           0.000000   \n",
       "50%        0.000000             0.000000           0.000000   \n",
       "75%        0.000000             0.000000           1.000000   \n",
       "max        1.000000             1.000000           1.000000   \n",
       "\n",
       "       source_PERSONAL_PROJECTS  source_SIGNUP  source_SIGNUP_GOOGLE_AUTH  \n",
       "count              12000.000000   12000.000000               12000.000000  \n",
       "mean                   0.175917       0.173917                   0.115417  \n",
       "std                    0.380765       0.379054                   0.319537  \n",
       "min                    0.000000       0.000000                   0.000000  \n",
       "25%                    0.000000       0.000000                   0.000000  \n",
       "50%                    0.000000       0.000000                   0.000000  \n",
       "75%                    0.000000       0.000000                   0.000000  \n",
       "max                    1.000000       1.000000                   1.000000  "
      ]
     },
     "execution_count": 58,
     "metadata": {},
     "output_type": "execute_result"
    }
   ],
   "source": [
    "users_df.describe()"
   ]
  },
  {
   "cell_type": "markdown",
   "id": "17dbdb98",
   "metadata": {},
   "source": [
    "Set aside users who login at least three times, as these are the only users that could potentially become adopted."
   ]
  },
  {
   "cell_type": "code",
   "execution_count": 59,
   "id": "bad1bb1c",
   "metadata": {},
   "outputs": [],
   "source": [
    "heavy_users = users_df.session_count >= 3"
   ]
  },
  {
   "cell_type": "code",
   "execution_count": 60,
   "id": "bf1e1c6e",
   "metadata": {},
   "outputs": [
    {
     "name": "stdout",
     "output_type": "stream",
     "text": [
      "2248\n"
     ]
    }
   ],
   "source": [
    "print(heavy_users.sum())"
   ]
  },
  {
   "cell_type": "markdown",
   "id": "168eed23",
   "metadata": {},
   "source": [
    "Normalize features."
   ]
  },
  {
   "cell_type": "code",
   "execution_count": 61,
   "id": "6c5044ba",
   "metadata": {},
   "outputs": [],
   "source": [
    "users_df /= users_df.max()"
   ]
  },
  {
   "cell_type": "code",
   "execution_count": 62,
   "id": "7688f01e",
   "metadata": {},
   "outputs": [
    {
     "data": {
      "text/html": [
       "<div>\n",
       "<style scoped>\n",
       "    .dataframe tbody tr th:only-of-type {\n",
       "        vertical-align: middle;\n",
       "    }\n",
       "\n",
       "    .dataframe tbody tr th {\n",
       "        vertical-align: top;\n",
       "    }\n",
       "\n",
       "    .dataframe thead th {\n",
       "        text-align: right;\n",
       "    }\n",
       "</style>\n",
       "<table border=\"1\" class=\"dataframe\">\n",
       "  <thead>\n",
       "    <tr style=\"text-align: right;\">\n",
       "      <th></th>\n",
       "      <th>opted_in_to_mailing_list</th>\n",
       "      <th>enabled_for_marketing_drip</th>\n",
       "      <th>session_count</th>\n",
       "      <th>invite_count</th>\n",
       "      <th>was_invited</th>\n",
       "      <th>org_count</th>\n",
       "      <th>creation_days_since_start</th>\n",
       "      <th>is_adopted</th>\n",
       "      <th>source_GUEST_INVITE</th>\n",
       "      <th>source_ORG_INVITE</th>\n",
       "      <th>source_PERSONAL_PROJECTS</th>\n",
       "      <th>source_SIGNUP</th>\n",
       "      <th>source_SIGNUP_GOOGLE_AUTH</th>\n",
       "    </tr>\n",
       "  </thead>\n",
       "  <tbody>\n",
       "    <tr>\n",
       "      <th>count</th>\n",
       "      <td>12000.000000</td>\n",
       "      <td>12000.000000</td>\n",
       "      <td>12000.000000</td>\n",
       "      <td>12000.000000</td>\n",
       "      <td>12000.000000</td>\n",
       "      <td>12000.000000</td>\n",
       "      <td>12000.000000</td>\n",
       "      <td>12000.000000</td>\n",
       "      <td>12000.000000</td>\n",
       "      <td>12000.000000</td>\n",
       "      <td>12000.000000</td>\n",
       "      <td>12000.000000</td>\n",
       "      <td>12000.000000</td>\n",
       "    </tr>\n",
       "    <tr>\n",
       "      <th>mean</th>\n",
       "      <td>0.249500</td>\n",
       "      <td>0.149333</td>\n",
       "      <td>0.028591</td>\n",
       "      <td>0.041135</td>\n",
       "      <td>0.534750</td>\n",
       "      <td>0.172754</td>\n",
       "      <td>0.563826</td>\n",
       "      <td>0.133500</td>\n",
       "      <td>0.180250</td>\n",
       "      <td>0.354500</td>\n",
       "      <td>0.175917</td>\n",
       "      <td>0.173917</td>\n",
       "      <td>0.115417</td>\n",
       "    </tr>\n",
       "    <tr>\n",
       "      <th>std</th>\n",
       "      <td>0.432742</td>\n",
       "      <td>0.356432</td>\n",
       "      <td>0.106086</td>\n",
       "      <td>0.103883</td>\n",
       "      <td>0.498812</td>\n",
       "      <td>0.200702</td>\n",
       "      <td>0.297176</td>\n",
       "      <td>0.340128</td>\n",
       "      <td>0.384412</td>\n",
       "      <td>0.478381</td>\n",
       "      <td>0.380765</td>\n",
       "      <td>0.379054</td>\n",
       "      <td>0.319537</td>\n",
       "    </tr>\n",
       "    <tr>\n",
       "      <th>min</th>\n",
       "      <td>0.000000</td>\n",
       "      <td>0.000000</td>\n",
       "      <td>0.000000</td>\n",
       "      <td>0.000000</td>\n",
       "      <td>0.000000</td>\n",
       "      <td>0.006270</td>\n",
       "      <td>0.000000</td>\n",
       "      <td>0.000000</td>\n",
       "      <td>0.000000</td>\n",
       "      <td>0.000000</td>\n",
       "      <td>0.000000</td>\n",
       "      <td>0.000000</td>\n",
       "      <td>0.000000</td>\n",
       "    </tr>\n",
       "    <tr>\n",
       "      <th>25%</th>\n",
       "      <td>0.000000</td>\n",
       "      <td>0.000000</td>\n",
       "      <td>0.000000</td>\n",
       "      <td>0.000000</td>\n",
       "      <td>0.000000</td>\n",
       "      <td>0.065831</td>\n",
       "      <td>0.314129</td>\n",
       "      <td>0.000000</td>\n",
       "      <td>0.000000</td>\n",
       "      <td>0.000000</td>\n",
       "      <td>0.000000</td>\n",
       "      <td>0.000000</td>\n",
       "      <td>0.000000</td>\n",
       "    </tr>\n",
       "    <tr>\n",
       "      <th>50%</th>\n",
       "      <td>0.000000</td>\n",
       "      <td>0.000000</td>\n",
       "      <td>0.001650</td>\n",
       "      <td>0.000000</td>\n",
       "      <td>1.000000</td>\n",
       "      <td>0.090909</td>\n",
       "      <td>0.591221</td>\n",
       "      <td>0.000000</td>\n",
       "      <td>0.000000</td>\n",
       "      <td>0.000000</td>\n",
       "      <td>0.000000</td>\n",
       "      <td>0.000000</td>\n",
       "      <td>0.000000</td>\n",
       "    </tr>\n",
       "    <tr>\n",
       "      <th>75%</th>\n",
       "      <td>0.000000</td>\n",
       "      <td>0.000000</td>\n",
       "      <td>0.001650</td>\n",
       "      <td>0.000000</td>\n",
       "      <td>1.000000</td>\n",
       "      <td>0.172414</td>\n",
       "      <td>0.832647</td>\n",
       "      <td>0.000000</td>\n",
       "      <td>0.000000</td>\n",
       "      <td>1.000000</td>\n",
       "      <td>0.000000</td>\n",
       "      <td>0.000000</td>\n",
       "      <td>0.000000</td>\n",
       "    </tr>\n",
       "    <tr>\n",
       "      <th>max</th>\n",
       "      <td>1.000000</td>\n",
       "      <td>1.000000</td>\n",
       "      <td>1.000000</td>\n",
       "      <td>1.000000</td>\n",
       "      <td>1.000000</td>\n",
       "      <td>1.000000</td>\n",
       "      <td>1.000000</td>\n",
       "      <td>1.000000</td>\n",
       "      <td>1.000000</td>\n",
       "      <td>1.000000</td>\n",
       "      <td>1.000000</td>\n",
       "      <td>1.000000</td>\n",
       "      <td>1.000000</td>\n",
       "    </tr>\n",
       "  </tbody>\n",
       "</table>\n",
       "</div>"
      ],
      "text/plain": [
       "       opted_in_to_mailing_list  enabled_for_marketing_drip  session_count  \\\n",
       "count              12000.000000                12000.000000   12000.000000   \n",
       "mean                   0.249500                    0.149333       0.028591   \n",
       "std                    0.432742                    0.356432       0.106086   \n",
       "min                    0.000000                    0.000000       0.000000   \n",
       "25%                    0.000000                    0.000000       0.000000   \n",
       "50%                    0.000000                    0.000000       0.001650   \n",
       "75%                    0.000000                    0.000000       0.001650   \n",
       "max                    1.000000                    1.000000       1.000000   \n",
       "\n",
       "       invite_count   was_invited     org_count  creation_days_since_start  \\\n",
       "count  12000.000000  12000.000000  12000.000000               12000.000000   \n",
       "mean       0.041135      0.534750      0.172754                   0.563826   \n",
       "std        0.103883      0.498812      0.200702                   0.297176   \n",
       "min        0.000000      0.000000      0.006270                   0.000000   \n",
       "25%        0.000000      0.000000      0.065831                   0.314129   \n",
       "50%        0.000000      1.000000      0.090909                   0.591221   \n",
       "75%        0.000000      1.000000      0.172414                   0.832647   \n",
       "max        1.000000      1.000000      1.000000                   1.000000   \n",
       "\n",
       "         is_adopted  source_GUEST_INVITE  source_ORG_INVITE  \\\n",
       "count  12000.000000         12000.000000       12000.000000   \n",
       "mean       0.133500             0.180250           0.354500   \n",
       "std        0.340128             0.384412           0.478381   \n",
       "min        0.000000             0.000000           0.000000   \n",
       "25%        0.000000             0.000000           0.000000   \n",
       "50%        0.000000             0.000000           0.000000   \n",
       "75%        0.000000             0.000000           1.000000   \n",
       "max        1.000000             1.000000           1.000000   \n",
       "\n",
       "       source_PERSONAL_PROJECTS  source_SIGNUP  source_SIGNUP_GOOGLE_AUTH  \n",
       "count              12000.000000   12000.000000               12000.000000  \n",
       "mean                   0.175917       0.173917                   0.115417  \n",
       "std                    0.380765       0.379054                   0.319537  \n",
       "min                    0.000000       0.000000                   0.000000  \n",
       "25%                    0.000000       0.000000                   0.000000  \n",
       "50%                    0.000000       0.000000                   0.000000  \n",
       "75%                    0.000000       0.000000                   0.000000  \n",
       "max                    1.000000       1.000000                   1.000000  "
      ]
     },
     "execution_count": 62,
     "metadata": {},
     "output_type": "execute_result"
    }
   ],
   "source": [
    "users_df.describe()"
   ]
  },
  {
   "cell_type": "code",
   "execution_count": 63,
   "id": "f12820b9",
   "metadata": {},
   "outputs": [
    {
     "data": {
      "image/png": "[encoded data removed]",
      "text/plain": [
       "<Figure size 864x864 with 2 Axes>"
      ]
     },
     "metadata": {
      "needs_background": "light"
     },
     "output_type": "display_data"
    }
   ],
   "source": [
    "f, ax = plt.subplots(figsize=(12, 12))\n",
    "sns.heatmap(users_df.corr(), cmap='vlag', vmin=-1, vmax=1, annot=True, center=0, fmt='0.3f',\n",
    "            square=True, linewidths=.5, cbar_kws={\"shrink\": .8}, annot_kws={'rotation': 45});"
   ]
  },
  {
   "cell_type": "markdown",
   "id": "12c6de16",
   "metadata": {},
   "source": [
    "The field `is_adopted` has little correlation with other fields at first glance. This remains the same when looking only at users with three or more sessions."
   ]
  },
  {
   "cell_type": "code",
   "execution_count": 64,
   "id": "c1647a18",
   "metadata": {},
   "outputs": [
    {
     "data": {
      "image/png": "[encoded data removed]",
      "text/plain": [
       "<Figure size 864x864 with 2 Axes>"
      ]
     },
     "metadata": {
      "needs_background": "light"
     },
     "output_type": "display_data"
    }
   ],
   "source": [
    "f, ax = plt.subplots(figsize=(12, 12))\n",
    "sns.heatmap(users_df[heavy_users].corr(), cmap='vlag', vmin=-1, vmax=1, annot=True, center=0, fmt='0.3f',\n",
    "            square=True, linewidths=.5, cbar_kws={\"shrink\": .8}, annot_kws={'rotation': 45});"
   ]
  },
  {
   "cell_type": "markdown",
   "id": "1d9c3215",
   "metadata": {},
   "source": [
    "## PCA Reduction"
   ]
  },
  {
   "cell_type": "code",
   "execution_count": 65,
   "id": "af6c512b",
   "metadata": {},
   "outputs": [
    {
     "name": "stdout",
     "output_type": "stream",
     "text": [
      "[0.30428704 0.14882342 0.14179749 0.10967543 0.08095315 0.07232482\n",
      " 0.05807643 0.04797481 0.02522506 0.00656011 0.00430223]\n"
     ]
    }
   ],
   "source": [
    "pca = PCA(n_components='mle')\n",
    "pca.fit(users_df)\n",
    "print(pca.explained_variance_ratio_)"
   ]
  },
  {
   "cell_type": "code",
   "execution_count": 66,
   "id": "acb08df5",
   "metadata": {},
   "outputs": [
    {
     "data": {
      "text/plain": [
       "array([0.30428704, 0.45311046, 0.59490795, 0.70458339, 0.78553654,\n",
       "       0.85786136, 0.91593779, 0.9639126 , 0.98913766, 0.99569777,\n",
       "       1.        ])"
      ]
     },
     "execution_count": 66,
     "metadata": {},
     "output_type": "execute_result"
    }
   ],
   "source": [
    "np.cumsum(pca.explained_variance_ratio_)"
   ]
  },
  {
   "cell_type": "markdown",
   "id": "9649b341",
   "metadata": {},
   "source": [
    "The PCA reduction only eliminates two dimensions, so we don't gain much."
   ]
  },
  {
   "cell_type": "markdown",
   "id": "5dfcc45d",
   "metadata": {},
   "source": [
    "# Model Fitting"
   ]
  },
  {
   "cell_type": "markdown",
   "id": "710bf681",
   "metadata": {},
   "source": [
    "There is some imbalance in our target feature, so we stratify when creating our train/test splits."
   ]
  },
  {
   "cell_type": "code",
   "execution_count": 67,
   "id": "dbcc3c45",
   "metadata": {},
   "outputs": [],
   "source": [
    "X = users_df.drop('is_adopted', axis=1)\n",
    "y = users_df['is_adopted']\n",
    "TEST_SIZE = 0.20\n",
    "RANDOM_STATE = 42\n",
    "X_train, X_test, y_train, y_test = train_test_split(X, y, test_size=TEST_SIZE, stratify=users_df['is_adopted'], \n",
    "                                                    random_state=RANDOM_STATE)"
   ]
  },
  {
   "cell_type": "code",
   "execution_count": 68,
   "id": "34f21d44",
   "metadata": {},
   "outputs": [],
   "source": [
    "scores = {}\n",
    "def score_classifier(name, y_true, y_pred):\n",
    "    clf_scores = {}\n",
    "    clf_scores['acc'] = metrics.accuracy_score(y_true, y_pred)\n",
    "    clf_scores['bal_acc'] = metrics.balanced_accuracy_score(y_true, y_pred)\n",
    "    clf_scores['f1'] = metrics.f1_score(y_true, y_pred)\n",
    "    clf_scores['prec'] = metrics.precision_score(y_true, y_pred, zero_division=0)\n",
    "    clf_scores['rec'] = metrics.recall_score(y_true, y_pred)\n",
    "    scores[name] = clf_scores"
   ]
  },
  {
   "cell_type": "code",
   "execution_count": 69,
   "id": "99f16a79",
   "metadata": {},
   "outputs": [],
   "source": [
    "def train_and_score_classifier(name, clf):\n",
    "    clf.fit(X_train, y_train)\n",
    "    y_pred = clf.predict(X_test)\n",
    "    score_classifier(name, y_test, y_pred)"
   ]
  },
  {
   "cell_type": "code",
   "execution_count": 70,
   "id": "39895e65",
   "metadata": {},
   "outputs": [],
   "source": [
    "def print_classifier_scores(name):\n",
    "    clf_scores = scores[name]\n",
    "    print(f'Accuracy: {clf_scores[\"acc\"]}')\n",
    "    print(f'Balanced Accuracy: {clf_scores[\"bal_acc\"]}')\n",
    "    print(f'F1: {clf_scores[\"f1\"]}')\n",
    "    print(f'Precision: {clf_scores[\"prec\"]}')\n",
    "    print(f'Recall: {clf_scores[\"rec\"]}')"
   ]
  },
  {
   "cell_type": "markdown",
   "id": "c7080e9f",
   "metadata": {},
   "source": [
    "## Baselines"
   ]
  },
  {
   "cell_type": "markdown",
   "id": "903493a8",
   "metadata": {},
   "source": [
    "Two dummy classifiers are trained to provide baselines. The first always chooses the majority class and the second makes a random choice based on the proportion of adopted users in the data set."
   ]
  },
  {
   "cell_type": "code",
   "execution_count": 71,
   "id": "15231c06",
   "metadata": {},
   "outputs": [
    {
     "name": "stdout",
     "output_type": "stream",
     "text": [
      "Accuracy: 0.8666666666666667\n",
      "Balanced Accuracy: 0.5\n",
      "F1: 0.0\n",
      "Precision: 0.0\n",
      "Recall: 0.0\n"
     ]
    }
   ],
   "source": [
    "dummy_freq_clf = DummyClassifier(strategy=\"most_frequent\")\n",
    "train_and_score_classifier('dummy_freq', dummy_freq_clf)\n",
    "print_classifier_scores('dummy_freq')"
   ]
  },
  {
   "cell_type": "code",
   "execution_count": 72,
   "id": "8daefa5a",
   "metadata": {},
   "outputs": [
    {
     "name": "stdout",
     "output_type": "stream",
     "text": [
      "Accuracy: 0.7679166666666667\n",
      "Balanced Accuracy: 0.5038461538461538\n",
      "F1: 0.14175654853620953\n",
      "Precision: 0.1398176291793313\n",
      "Recall: 0.14375\n"
     ]
    }
   ],
   "source": [
    "dummy_strat_clf = DummyClassifier(strategy=\"stratified\", random_state=RANDOM_STATE)\n",
    "train_and_score_classifier('dummy_strat', dummy_strat_clf)\n",
    "print_classifier_scores('dummy_strat')"
   ]
  },
  {
   "cell_type": "markdown",
   "id": "72eb915f",
   "metadata": {},
   "source": [
    "## Logistic Regression"
   ]
  },
  {
   "cell_type": "markdown",
   "id": "8de2d796",
   "metadata": {},
   "source": [
    "It seems that logistic regression on its own always predicts no adoption."
   ]
  },
  {
   "cell_type": "code",
   "execution_count": 73,
   "id": "a230157a",
   "metadata": {},
   "outputs": [
    {
     "name": "stdout",
     "output_type": "stream",
     "text": [
      "Accuracy: 0.8666666666666667\n",
      "Balanced Accuracy: 0.5\n",
      "F1: 0.0\n",
      "Precision: 0.0\n",
      "Recall: 0.0\n"
     ]
    }
   ],
   "source": [
    "lr_clf = LogisticRegression()\n",
    "train_and_score_classifier('logistic', lr_clf)\n",
    "print_classifier_scores('logistic')"
   ]
  },
  {
   "cell_type": "markdown",
   "id": "63fe7a34",
   "metadata": {},
   "source": [
    "A balanced regression is an improvement."
   ]
  },
  {
   "cell_type": "code",
   "execution_count": 74,
   "id": "9dbe9ef9",
   "metadata": {},
   "outputs": [
    {
     "name": "stdout",
     "output_type": "stream",
     "text": [
      "Accuracy: 0.5645833333333333\n",
      "Balanced Accuracy: 0.508173076923077\n",
      "F1: 0.2089326267978804\n",
      "Precision: 0.13786213786213786\n",
      "Recall: 0.43125\n"
     ]
    }
   ],
   "source": [
    "bal_lr_clf = LogisticRegression(class_weight='balanced')\n",
    "train_and_score_classifier('bal_logistic', bal_lr_clf)\n",
    "print_classifier_scores('bal_logistic')"
   ]
  },
  {
   "cell_type": "code",
   "execution_count": 75,
   "id": "9ead3256",
   "metadata": {},
   "outputs": [
    {
     "name": "stdout",
     "output_type": "stream",
     "text": [
      "Accuracy: 0.8666666666666667\n",
      "Balanced Accuracy: 0.5\n",
      "F1: 0.0\n",
      "Precision: 0.0\n",
      "Recall: 0.0\n"
     ]
    }
   ],
   "source": [
    "lr_l1_clf = LogisticRegression(penalty='l1', solver='liblinear')\n",
    "train_and_score_classifier('logistic_l1_reg', lr_l1_clf)\n",
    "print_classifier_scores('logistic_l1_reg')"
   ]
  },
  {
   "cell_type": "code",
   "execution_count": 76,
   "id": "6753a6ea",
   "metadata": {},
   "outputs": [
    {
     "name": "stdout",
     "output_type": "stream",
     "text": [
      "Accuracy: 0.56125\n",
      "Balanced Accuracy: 0.5049278846153846\n",
      "F1: 0.20648078372268272\n",
      "Precision: 0.13604766633565044\n",
      "Recall: 0.428125\n"
     ]
    }
   ],
   "source": [
    "bal_lr_l1_clf = LogisticRegression(penalty='l1', solver='liblinear', class_weight='balanced')\n",
    "train_and_score_classifier('bal_logistic_l1_reg', bal_lr_l1_clf)\n",
    "print_classifier_scores('bal_logistic_l1_reg')"
   ]
  },
  {
   "cell_type": "markdown",
   "id": "ca509740",
   "metadata": {},
   "source": [
    "## KNN"
   ]
  },
  {
   "cell_type": "code",
   "execution_count": 77,
   "id": "aa543398",
   "metadata": {},
   "outputs": [
    {
     "name": "stdout",
     "output_type": "stream",
     "text": [
      "Accuracy: 0.85375\n",
      "Balanced Accuracy: 0.49519230769230765\n",
      "F1: 0.011267605633802818\n",
      "Precision: 0.05714285714285714\n",
      "Recall: 0.00625\n"
     ]
    }
   ],
   "source": [
    "knn_clf = KNeighborsClassifier()\n",
    "train_and_score_classifier('knn_reg', knn_clf)\n",
    "print_classifier_scores('knn_reg')"
   ]
  },
  {
   "cell_type": "markdown",
   "id": "27541181",
   "metadata": {},
   "source": [
    "## Ridge Regression"
   ]
  },
  {
   "cell_type": "code",
   "execution_count": 78,
   "id": "c159cf0c",
   "metadata": {},
   "outputs": [
    {
     "name": "stdout",
     "output_type": "stream",
     "text": [
      "Accuracy: 0.8666666666666667\n",
      "Balanced Accuracy: 0.5\n",
      "F1: 0.0\n",
      "Precision: 0.0\n",
      "Recall: 0.0\n"
     ]
    }
   ],
   "source": [
    "rc_clf = RidgeClassifier()\n",
    "train_and_score_classifier('ridge', rc_clf)\n",
    "print_classifier_scores('ridge')"
   ]
  },
  {
   "cell_type": "code",
   "execution_count": 79,
   "id": "81d8bcfa",
   "metadata": {},
   "outputs": [
    {
     "name": "stdout",
     "output_type": "stream",
     "text": [
      "Accuracy: 0.56375\n",
      "Balanced Accuracy: 0.5076923076923077\n",
      "F1: 0.2086167800453515\n",
      "Precision: 0.13758723828514458\n",
      "Recall: 0.43125\n"
     ]
    }
   ],
   "source": [
    "bal_rc_clf = RidgeClassifier(class_weight='balanced')\n",
    "train_and_score_classifier('bal_ridge', bal_rc_clf)\n",
    "print_classifier_scores('bal_ridge')"
   ]
  },
  {
   "cell_type": "markdown",
   "id": "dfff4cd5",
   "metadata": {},
   "source": [
    "## Naive Bayes"
   ]
  },
  {
   "cell_type": "code",
   "execution_count": 80,
   "id": "7d950d26",
   "metadata": {},
   "outputs": [
    {
     "name": "stdout",
     "output_type": "stream",
     "text": [
      "Accuracy: 0.8666666666666667\n",
      "Balanced Accuracy: 0.5\n",
      "F1: 0.0\n",
      "Precision: 0.0\n",
      "Recall: 0.0\n"
     ]
    }
   ],
   "source": [
    "nb_clf = BernoulliNB()\n",
    "train_and_score_classifier('naive_bayes', nb_clf)\n",
    "print_classifier_scores('naive_bayes')"
   ]
  },
  {
   "cell_type": "markdown",
   "id": "d524fc7c",
   "metadata": {},
   "source": [
    "## Random Forests"
   ]
  },
  {
   "cell_type": "markdown",
   "id": "9ae05e3c",
   "metadata": {},
   "source": [
    "Unlike with logistic regression, balancing the class weight doesn't improve the random forest results."
   ]
  },
  {
   "cell_type": "code",
   "execution_count": 81,
   "id": "e0d01918",
   "metadata": {},
   "outputs": [
    {
     "name": "stdout",
     "output_type": "stream",
     "text": [
      "Accuracy: 0.8445833333333334\n",
      "Balanced Accuracy: 0.4938701923076923\n",
      "F1: 0.02610966057441253\n",
      "Precision: 0.07936507936507936\n",
      "Recall: 0.015625\n"
     ]
    }
   ],
   "source": [
    "rf_clf = RandomForestClassifier(random_state=RANDOM_STATE)\n",
    "train_and_score_classifier('random_forest', rf_clf)\n",
    "print_classifier_scores('random_forest')"
   ]
  },
  {
   "cell_type": "code",
   "execution_count": 82,
   "id": "46c2a366",
   "metadata": {},
   "outputs": [
    {
     "name": "stdout",
     "output_type": "stream",
     "text": [
      "Accuracy: 0.845\n",
      "Balanced Accuracy: 0.4927884615384615\n",
      "F1: 0.02105263157894737\n",
      "Precision: 0.06666666666666667\n",
      "Recall: 0.0125\n"
     ]
    }
   ],
   "source": [
    "bal_rf_clf = RandomForestClassifier(class_weight='balanced', random_state=RANDOM_STATE)\n",
    "train_and_score_classifier('bal_random_forest', bal_rf_clf)\n",
    "print_classifier_scores('bal_random_forest')"
   ]
  },
  {
   "cell_type": "markdown",
   "id": "8a4a1b37",
   "metadata": {},
   "source": [
    "## Support Vector Classifier"
   ]
  },
  {
   "cell_type": "code",
   "execution_count": 83,
   "id": "0f0593b3",
   "metadata": {},
   "outputs": [
    {
     "name": "stdout",
     "output_type": "stream",
     "text": [
      "Accuracy: 0.8666666666666667\n",
      "Balanced Accuracy: 0.5\n",
      "F1: 0.0\n",
      "Precision: 0.0\n",
      "Recall: 0.0\n"
     ]
    }
   ],
   "source": [
    "svc_clf = LinearSVC(dual=False)\n",
    "train_and_score_classifier('svc', svc_clf)\n",
    "print_classifier_scores('svc')"
   ]
  },
  {
   "cell_type": "markdown",
   "id": "ab688e3a",
   "metadata": {},
   "source": [
    "As with logistic regression, we see a slight improvement with a balanced class weight."
   ]
  },
  {
   "cell_type": "code",
   "execution_count": 84,
   "id": "f75c251d",
   "metadata": {},
   "outputs": [
    {
     "name": "stdout",
     "output_type": "stream",
     "text": [
      "Accuracy: 0.5633333333333334\n",
      "Balanced Accuracy: 0.5074519230769231\n",
      "F1: 0.2084592145015106\n",
      "Precision: 0.13745019920318724\n",
      "Recall: 0.43125\n"
     ]
    }
   ],
   "source": [
    "bal_svc_clf = LinearSVC(class_weight='balanced', dual=False)\n",
    "train_and_score_classifier('bal_svc', bal_svc_clf)\n",
    "print_classifier_scores('bal_svc')"
   ]
  },
  {
   "cell_type": "markdown",
   "id": "64853471",
   "metadata": {},
   "source": [
    "## Gradient Boosting"
   ]
  },
  {
   "cell_type": "code",
   "execution_count": 85,
   "id": "a86015e9",
   "metadata": {},
   "outputs": [
    {
     "name": "stdout",
     "output_type": "stream",
     "text": [
      "Accuracy: 0.8658333333333333\n",
      "Balanced Accuracy: 0.49951923076923077\n",
      "F1: 0.0\n",
      "Precision: 0.0\n",
      "Recall: 0.0\n"
     ]
    }
   ],
   "source": [
    "gb_clf = HistGradientBoostingClassifier(random_state=RANDOM_STATE)\n",
    "train_and_score_classifier('grad_boost', gb_clf)\n",
    "print_classifier_scores('grad_boost')"
   ]
  },
  {
   "cell_type": "code",
   "execution_count": null,
   "id": "881b6c00",
   "metadata": {},
   "outputs": [],
   "source": []
  }
 ],
 "metadata": {
  "kernelspec": {
   "display_name": "Python 3",
   "language": "python",
   "name": "python3"
  },
  "language_info": {
   "codemirror_mode": {
    "name": "ipython",
    "version": 3
   },
   "file_extension": ".py",
   "mimetype": "text/x-python",
   "name": "python",
   "nbconvert_exporter": "python",
   "pygments_lexer": "ipython3",
   "version": "3.9.4"
  }
 },
 "nbformat": 4,
 "nbformat_minor": 5
}
